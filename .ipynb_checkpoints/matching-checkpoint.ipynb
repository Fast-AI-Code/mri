{
 "cells": [
  {
   "cell_type": "code",
   "execution_count": 1,
   "metadata": {
    "ExecuteTime": {
     "end_time": "2020-01-24T07:49:01.804098Z",
     "start_time": "2020-01-24T07:49:01.546213Z"
    }
   },
   "outputs": [],
   "source": [
    "from scipy.io import loadmat"
   ]
  },
  {
   "cell_type": "code",
   "execution_count": 2,
   "metadata": {
    "ExecuteTime": {
     "end_time": "2020-01-24T07:49:01.824048Z",
     "start_time": "2020-01-24T07:49:01.805099Z"
    }
   },
   "outputs": [],
   "source": [
    "from PIL import Image"
   ]
  },
  {
   "cell_type": "code",
   "execution_count": 3,
   "metadata": {
    "ExecuteTime": {
     "end_time": "2020-01-24T07:49:02.942227Z",
     "start_time": "2020-01-24T07:49:01.826044Z"
    }
   },
   "outputs": [],
   "source": [
    "import seaborn as sns"
   ]
  },
  {
   "cell_type": "code",
   "execution_count": 4,
   "metadata": {
    "ExecuteTime": {
     "end_time": "2020-01-24T07:49:02.948107Z",
     "start_time": "2020-01-24T07:49:02.944119Z"
    }
   },
   "outputs": [],
   "source": [
    "import numpy as np"
   ]
  },
  {
   "cell_type": "code",
   "execution_count": 5,
   "metadata": {
    "ExecuteTime": {
     "end_time": "2020-01-24T07:49:02.960099Z",
     "start_time": "2020-01-24T07:49:02.949997Z"
    }
   },
   "outputs": [],
   "source": [
    "import matplotlib.pyplot as plt"
   ]
  },
  {
   "cell_type": "code",
   "execution_count": 6,
   "metadata": {
    "ExecuteTime": {
     "end_time": "2020-01-24T07:49:02.968003Z",
     "start_time": "2020-01-24T07:49:02.963017Z"
    }
   },
   "outputs": [],
   "source": [
    "import pandas as pd"
   ]
  },
  {
   "cell_type": "code",
   "execution_count": 25,
   "metadata": {
    "ExecuteTime": {
     "end_time": "2020-01-24T07:50:48.615126Z",
     "start_time": "2020-01-24T07:50:48.547112Z"
    }
   },
   "outputs": [
    {
     "ename": "ModuleNotFoundError",
     "evalue": "No module named 'shapely'",
     "output_type": "error",
     "traceback": [
      "\u001b[1;31m---------------------------------------------------------------------------\u001b[0m",
      "\u001b[1;31mModuleNotFoundError\u001b[0m                       Traceback (most recent call last)",
      "\u001b[1;32m<ipython-input-25-8dffbf481ce8>\u001b[0m in \u001b[0;36m<module>\u001b[1;34m\u001b[0m\n\u001b[1;32m----> 1\u001b[1;33m \u001b[1;32mfrom\u001b[0m \u001b[0mshapely\u001b[0m\u001b[1;33m.\u001b[0m\u001b[0mgeometry\u001b[0m \u001b[1;32mimport\u001b[0m \u001b[0mPolygon\u001b[0m\u001b[1;33m\u001b[0m\u001b[1;33m\u001b[0m\u001b[0m\n\u001b[0m",
      "\u001b[1;31mModuleNotFoundError\u001b[0m: No module named 'shapely'"
     ]
    }
   ],
   "source": [
    "from shapely.geometry import Polygon"
   ]
  },
  {
   "cell_type": "code",
   "execution_count": 21,
   "metadata": {
    "ExecuteTime": {
     "end_time": "2020-01-24T07:50:24.726145Z",
     "start_time": "2020-01-24T07:50:24.722156Z"
    }
   },
   "outputs": [],
   "source": [
    "import os"
   ]
  },
  {
   "cell_type": "code",
   "execution_count": 22,
   "metadata": {
    "ExecuteTime": {
     "end_time": "2020-01-24T07:50:25.350149Z",
     "start_time": "2020-01-24T07:50:24.728140Z"
    }
   },
   "outputs": [],
   "source": [
    "import networkx as nx"
   ]
  },
  {
   "cell_type": "code",
   "execution_count": 23,
   "metadata": {
    "ExecuteTime": {
     "end_time": "2020-01-24T07:50:25.364893Z",
     "start_time": "2020-01-24T07:50:25.350933Z"
    }
   },
   "outputs": [],
   "source": [
    "from tqdm import tqdm_notebook"
   ]
  },
  {
   "cell_type": "code",
   "execution_count": 24,
   "metadata": {
    "ExecuteTime": {
     "end_time": "2020-01-24T07:50:25.368882Z",
     "start_time": "2020-01-24T07:50:25.365890Z"
    }
   },
   "outputs": [],
   "source": [
    "from datetime import datetime, timedelta\n",
    "from dateutil import relativedelta"
   ]
  },
  {
   "cell_type": "code",
   "execution_count": 8,
   "metadata": {
    "ExecuteTime": {
     "end_time": "2020-01-24T07:49:04.787544Z",
     "start_time": "2020-01-24T07:49:04.780574Z"
    }
   },
   "outputs": [],
   "source": [
    "from scipy.optimize import linear_sum_assignment"
   ]
  },
  {
   "cell_type": "code",
   "execution_count": 10,
   "metadata": {
    "ExecuteTime": {
     "end_time": "2020-01-24T07:49:12.852036Z",
     "start_time": "2020-01-24T07:49:12.837316Z"
    }
   },
   "outputs": [],
   "source": [
    "patients_df = pd.read_excel(\"data/Initial & repeat MRI in MS-Free Dataset/PatientCodes-Names.xls\")"
   ]
  },
  {
   "cell_type": "code",
   "execution_count": 46,
   "metadata": {
    "ExecuteTime": {
     "end_time": "2020-01-24T07:52:03.377861Z",
     "start_time": "2020-01-24T07:52:03.363797Z"
    }
   },
   "outputs": [],
   "source": [
    "edss_df = pd.read_csv(\"data/edss.csv\")"
   ]
  },
  {
   "cell_type": "code",
   "execution_count": 13,
   "metadata": {
    "ExecuteTime": {
     "end_time": "2020-01-24T07:49:51.958031Z",
     "start_time": "2020-01-24T07:49:51.948060Z"
    }
   },
   "outputs": [],
   "source": [
    "patients_df.drop(0, inplace=True)"
   ]
  },
  {
   "cell_type": "code",
   "execution_count": 14,
   "metadata": {
    "ExecuteTime": {
     "end_time": "2020-01-24T07:49:51.975015Z",
     "start_time": "2020-01-24T07:49:51.963046Z"
    }
   },
   "outputs": [],
   "source": [
    "patients_df.drop(columns=[\"Unnamed: 7\", \"Unnamed: 6\"], inplace=True)"
   ]
  },
  {
   "cell_type": "code",
   "execution_count": 15,
   "metadata": {
    "ExecuteTime": {
     "end_time": "2020-01-24T07:49:52.013237Z",
     "start_time": "2020-01-24T07:49:51.982000Z"
    }
   },
   "outputs": [
    {
     "data": {
      "text/html": [
       "<div>\n",
       "<style scoped>\n",
       "    .dataframe tbody tr th:only-of-type {\n",
       "        vertical-align: middle;\n",
       "    }\n",
       "\n",
       "    .dataframe tbody tr th {\n",
       "        vertical-align: top;\n",
       "    }\n",
       "\n",
       "    .dataframe thead th {\n",
       "        text-align: right;\n",
       "    }\n",
       "</style>\n",
       "<table border=\"1\" class=\"dataframe\">\n",
       "  <thead>\n",
       "    <tr style=\"text-align: right;\">\n",
       "      <th></th>\n",
       "      <th>N</th>\n",
       "      <th>Date Of bitrh</th>\n",
       "      <th>Date of Exam</th>\n",
       "      <th>Age at onset</th>\n",
       "      <th>Unnamed: 4</th>\n",
       "      <th>CODE</th>\n",
       "    </tr>\n",
       "  </thead>\n",
       "  <tbody>\n",
       "    <tr>\n",
       "      <th>1</th>\n",
       "      <td>1.0</td>\n",
       "      <td>1970-01-05</td>\n",
       "      <td>2004-05-24</td>\n",
       "      <td>34.0</td>\n",
       "      <td>NaN</td>\n",
       "      <td>AT</td>\n",
       "    </tr>\n",
       "    <tr>\n",
       "      <th>2</th>\n",
       "      <td>2.0</td>\n",
       "      <td>1973-10-20</td>\n",
       "      <td>2003-11-12</td>\n",
       "      <td>30.0</td>\n",
       "      <td>NaN</td>\n",
       "      <td>AA</td>\n",
       "    </tr>\n",
       "    <tr>\n",
       "      <th>3</th>\n",
       "      <td>3.0</td>\n",
       "      <td>1953-05-15</td>\n",
       "      <td>2003-01-14</td>\n",
       "      <td>50.0</td>\n",
       "      <td>NaN</td>\n",
       "      <td>GPE</td>\n",
       "    </tr>\n",
       "    <tr>\n",
       "      <th>4</th>\n",
       "      <td>4.0</td>\n",
       "      <td>1981-03-29</td>\n",
       "      <td>2004-02-11</td>\n",
       "      <td>23.0</td>\n",
       "      <td>NaN</td>\n",
       "      <td>HC</td>\n",
       "    </tr>\n",
       "    <tr>\n",
       "      <th>5</th>\n",
       "      <td>5.0</td>\n",
       "      <td>1983-07-21</td>\n",
       "      <td>2004-07-21</td>\n",
       "      <td>21.0</td>\n",
       "      <td>NaN</td>\n",
       "      <td>IO</td>\n",
       "    </tr>\n",
       "  </tbody>\n",
       "</table>\n",
       "</div>"
      ],
      "text/plain": [
       "     N Date Of bitrh  Date of Exam   Age at onset   Unnamed: 4 CODE\n",
       "1  1.0     1970-01-05    2004-05-24           34.0         NaN   AT\n",
       "2  2.0     1973-10-20    2003-11-12           30.0         NaN   AA\n",
       "3  3.0     1953-05-15    2003-01-14           50.0         NaN  GPE\n",
       "4  4.0     1981-03-29    2004-02-11           23.0         NaN   HC\n",
       "5  5.0     1983-07-21    2004-07-21           21.0         NaN   IO"
      ]
     },
     "execution_count": 15,
     "metadata": {},
     "output_type": "execute_result"
    }
   ],
   "source": [
    "patients_df.head()"
   ]
  },
  {
   "cell_type": "code",
   "execution_count": 16,
   "metadata": {
    "ExecuteTime": {
     "end_time": "2020-01-24T07:49:56.125158Z",
     "start_time": "2020-01-24T07:49:56.113184Z"
    }
   },
   "outputs": [
    {
     "data": {
      "text/plain": [
       "Index(['N', 'Date Of bitrh ', 'Date of Exam ', 'Age at onset ', 'Unnamed: 4',\n",
       "       'CODE'],\n",
       "      dtype='object')"
      ]
     },
     "execution_count": 16,
     "metadata": {},
     "output_type": "execute_result"
    }
   ],
   "source": [
    "patients_df.columns"
   ]
  },
  {
   "cell_type": "code",
   "execution_count": 17,
   "metadata": {
    "ExecuteTime": {
     "end_time": "2020-01-24T07:49:56.140841Z",
     "start_time": "2020-01-24T07:49:56.131146Z"
    }
   },
   "outputs": [],
   "source": [
    "patients_df[\"Date of Exam \"] = pd.to_datetime(patients_df[\"Date of Exam \"])"
   ]
  },
  {
   "cell_type": "code",
   "execution_count": 18,
   "metadata": {
    "ExecuteTime": {
     "end_time": "2020-01-24T07:50:01.801092Z",
     "start_time": "2020-01-24T07:50:01.745289Z"
    }
   },
   "outputs": [],
   "source": [
    "im = Image.open(\"data/Initial & repeat MRI in MS-Free Dataset/AA/2/IM_00239.TIF\")\n",
    "lesion_scan = np.array(im)"
   ]
  },
  {
   "cell_type": "markdown",
   "metadata": {},
   "source": [
    "# Get by months"
   ]
  },
  {
   "cell_type": "markdown",
   "metadata": {},
   "source": [
    "2009-2010 years"
   ]
  },
  {
   "cell_type": "code",
   "execution_count": 37,
   "metadata": {
    "ExecuteTime": {
     "end_time": "2020-01-24T07:51:39.980981Z",
     "start_time": "2020-01-24T07:51:39.976866Z"
    }
   },
   "outputs": [],
   "source": [
    "date1 = datetime.strptime(str('2011-08-15 12:00:00'), '%Y-%m-%d %H:%M:%S')\n",
    "date2 = datetime.strptime(str('2012-02-15'), '%Y-%m-%d')"
   ]
  },
  {
   "cell_type": "code",
   "execution_count": 38,
   "metadata": {
    "ExecuteTime": {
     "end_time": "2020-01-24T07:51:40.797139Z",
     "start_time": "2020-01-24T07:51:40.788165Z"
    }
   },
   "outputs": [],
   "source": [
    "def months_diff(date1, date2):\n",
    "    return relativedelta.relativedelta(date2, date1).years * 12 + relativedelta.relativedelta(date2, date1).months"
   ]
  },
  {
   "cell_type": "code",
   "execution_count": 48,
   "metadata": {
    "ExecuteTime": {
     "end_time": "2020-01-24T07:52:09.298196Z",
     "start_time": "2020-01-24T07:52:09.221945Z"
    }
   },
   "outputs": [
    {
     "name": "stderr",
     "output_type": "stream",
     "text": [
      "C:\\Users\\msubh\\Anaconda3\\lib\\site-packages\\ipykernel_launcher.py:4: TqdmDeprecationWarning: This function will be removed in tqdm==5.0.0\n",
      "Please use `tqdm.notebook.tqdm` instead of `tqdm.tqdm_notebook`\n",
      "  after removing the cwd from sys.path.\n"
     ]
    },
    {
     "data": {
      "application/vnd.jupyter.widget-view+json": {
       "model_id": "f2200e99308348f2bcc4f8185d74f7c4",
       "version_major": 2,
       "version_minor": 0
      },
      "text/plain": [
       "HBox(children=(FloatProgress(value=0.0, max=3650.0), HTML(value='')))"
      ]
     },
     "metadata": {},
     "output_type": "display_data"
    },
    {
     "name": "stdout",
     "output_type": "stream",
     "text": [
      "\n"
     ]
    },
    {
     "ename": "NameError",
     "evalue": "name 'initial_months' is not defined",
     "output_type": "error",
     "traceback": [
      "\u001b[1;31m---------------------------------------------------------------------------\u001b[0m",
      "\u001b[1;31mNameError\u001b[0m                                 Traceback (most recent call last)",
      "\u001b[1;32m<ipython-input-48-d5a6db2d4d7c>\u001b[0m in \u001b[0;36m<module>\u001b[1;34m\u001b[0m\n\u001b[0;32m      5\u001b[0m     \u001b[0mend_date\u001b[0m \u001b[1;33m=\u001b[0m \u001b[0mdatetime\u001b[0m\u001b[1;33m(\u001b[0m\u001b[1;36m2005\u001b[0m\u001b[1;33m,\u001b[0m \u001b[1;36m1\u001b[0m\u001b[1;33m,\u001b[0m \u001b[1;36m1\u001b[0m\u001b[1;33m)\u001b[0m \u001b[1;33m+\u001b[0m \u001b[0mtimedelta\u001b[0m\u001b[1;33m(\u001b[0m\u001b[0mdays\u001b[0m\u001b[1;33m=\u001b[0m\u001b[0mend_days\u001b[0m\u001b[1;33m)\u001b[0m\u001b[1;33m\u001b[0m\u001b[1;33m\u001b[0m\u001b[0m\n\u001b[0;32m      6\u001b[0m     \u001b[0mcurrent_months\u001b[0m \u001b[1;33m=\u001b[0m \u001b[0mset\u001b[0m\u001b[1;33m(\u001b[0m\u001b[0mpatients_df\u001b[0m\u001b[1;33m[\u001b[0m\u001b[1;34m\"Date of Exam \"\u001b[0m\u001b[1;33m]\u001b[0m\u001b[1;33m.\u001b[0m\u001b[0mapply\u001b[0m\u001b[1;33m(\u001b[0m\u001b[1;32mlambda\u001b[0m \u001b[0mx\u001b[0m\u001b[1;33m:\u001b[0m \u001b[0mmonths_diff\u001b[0m\u001b[1;33m(\u001b[0m\u001b[0mx\u001b[0m\u001b[1;33m,\u001b[0m \u001b[0mend_date\u001b[0m\u001b[1;33m)\u001b[0m\u001b[1;33m)\u001b[0m\u001b[1;33m)\u001b[0m\u001b[1;33m\u001b[0m\u001b[1;33m\u001b[0m\u001b[0m\n\u001b[1;32m----> 7\u001b[1;33m     \u001b[0minter\u001b[0m \u001b[1;33m=\u001b[0m \u001b[0mcurrent_months\u001b[0m\u001b[1;33m.\u001b[0m\u001b[0mintersection\u001b[0m\u001b[1;33m(\u001b[0m\u001b[0minitial_months\u001b[0m\u001b[1;33m)\u001b[0m\u001b[1;33m\u001b[0m\u001b[1;33m\u001b[0m\u001b[0m\n\u001b[0m\u001b[0;32m      8\u001b[0m     \u001b[0mdates\u001b[0m\u001b[1;33m.\u001b[0m\u001b[0mappend\u001b[0m\u001b[1;33m(\u001b[0m\u001b[0mend_date\u001b[0m\u001b[1;33m)\u001b[0m\u001b[1;33m\u001b[0m\u001b[1;33m\u001b[0m\u001b[0m\n\u001b[0;32m      9\u001b[0m     \u001b[0mpercentages\u001b[0m\u001b[1;33m.\u001b[0m\u001b[0mappend\u001b[0m\u001b[1;33m(\u001b[0m\u001b[0mlen\u001b[0m\u001b[1;33m(\u001b[0m\u001b[0minter\u001b[0m\u001b[1;33m)\u001b[0m \u001b[1;33m/\u001b[0m \u001b[0mlen\u001b[0m\u001b[1;33m(\u001b[0m\u001b[0minitial_months\u001b[0m\u001b[1;33m)\u001b[0m\u001b[1;33m)\u001b[0m\u001b[1;33m\u001b[0m\u001b[1;33m\u001b[0m\u001b[0m\n",
      "\u001b[1;31mNameError\u001b[0m: name 'initial_months' is not defined"
     ]
    }
   ],
   "source": [
    "dates = []\n",
    "percentages = []\n",
    "\n",
    "for end_days in tqdm_notebook(range(0, 365 * 10)):\n",
    "    end_date = datetime(2005, 1, 1) + timedelta(days=end_days)\n",
    "    current_months = set(patients_df[\"Date of Exam \"].apply(lambda x: months_diff(x, end_date)))\n",
    "    inter = current_months.intersection(initial_months)\n",
    "    dates.append(end_date)\n",
    "    percentages.append(len(inter) / len(initial_months))"
   ]
  },
  {
   "cell_type": "code",
   "execution_count": 40,
   "metadata": {
    "ExecuteTime": {
     "end_time": "2020-01-24T07:51:42.486391Z",
     "start_time": "2020-01-24T07:51:42.463204Z"
    }
   },
   "outputs": [
    {
     "ename": "ValueError",
     "evalue": "attempt to get argmax of an empty sequence",
     "output_type": "error",
     "traceback": [
      "\u001b[1;31m---------------------------------------------------------------------------\u001b[0m",
      "\u001b[1;31mValueError\u001b[0m                                Traceback (most recent call last)",
      "\u001b[1;32m<ipython-input-40-20c6bde33b29>\u001b[0m in \u001b[0;36m<module>\u001b[1;34m\u001b[0m\n\u001b[1;32m----> 1\u001b[1;33m \u001b[0mend_date\u001b[0m \u001b[1;33m=\u001b[0m \u001b[0mdates\u001b[0m\u001b[1;33m[\u001b[0m\u001b[0mnp\u001b[0m\u001b[1;33m.\u001b[0m\u001b[0margmax\u001b[0m\u001b[1;33m(\u001b[0m\u001b[0mpercentages\u001b[0m\u001b[1;33m)\u001b[0m\u001b[1;33m]\u001b[0m\u001b[1;33m\u001b[0m\u001b[1;33m\u001b[0m\u001b[0m\n\u001b[0m",
      "\u001b[1;32m<__array_function__ internals>\u001b[0m in \u001b[0;36margmax\u001b[1;34m(*args, **kwargs)\u001b[0m\n",
      "\u001b[1;32m~\\Anaconda3\\lib\\site-packages\\numpy\\core\\fromnumeric.py\u001b[0m in \u001b[0;36margmax\u001b[1;34m(a, axis, out)\u001b[0m\n\u001b[0;32m   1184\u001b[0m \u001b[1;33m\u001b[0m\u001b[0m\n\u001b[0;32m   1185\u001b[0m     \"\"\"\n\u001b[1;32m-> 1186\u001b[1;33m     \u001b[1;32mreturn\u001b[0m \u001b[0m_wrapfunc\u001b[0m\u001b[1;33m(\u001b[0m\u001b[0ma\u001b[0m\u001b[1;33m,\u001b[0m \u001b[1;34m'argmax'\u001b[0m\u001b[1;33m,\u001b[0m \u001b[0maxis\u001b[0m\u001b[1;33m=\u001b[0m\u001b[0maxis\u001b[0m\u001b[1;33m,\u001b[0m \u001b[0mout\u001b[0m\u001b[1;33m=\u001b[0m\u001b[0mout\u001b[0m\u001b[1;33m)\u001b[0m\u001b[1;33m\u001b[0m\u001b[1;33m\u001b[0m\u001b[0m\n\u001b[0m\u001b[0;32m   1187\u001b[0m \u001b[1;33m\u001b[0m\u001b[0m\n\u001b[0;32m   1188\u001b[0m \u001b[1;33m\u001b[0m\u001b[0m\n",
      "\u001b[1;32m~\\Anaconda3\\lib\\site-packages\\numpy\\core\\fromnumeric.py\u001b[0m in \u001b[0;36m_wrapfunc\u001b[1;34m(obj, method, *args, **kwds)\u001b[0m\n\u001b[0;32m     56\u001b[0m     \u001b[0mbound\u001b[0m \u001b[1;33m=\u001b[0m \u001b[0mgetattr\u001b[0m\u001b[1;33m(\u001b[0m\u001b[0mobj\u001b[0m\u001b[1;33m,\u001b[0m \u001b[0mmethod\u001b[0m\u001b[1;33m,\u001b[0m \u001b[1;32mNone\u001b[0m\u001b[1;33m)\u001b[0m\u001b[1;33m\u001b[0m\u001b[1;33m\u001b[0m\u001b[0m\n\u001b[0;32m     57\u001b[0m     \u001b[1;32mif\u001b[0m \u001b[0mbound\u001b[0m \u001b[1;32mis\u001b[0m \u001b[1;32mNone\u001b[0m\u001b[1;33m:\u001b[0m\u001b[1;33m\u001b[0m\u001b[1;33m\u001b[0m\u001b[0m\n\u001b[1;32m---> 58\u001b[1;33m         \u001b[1;32mreturn\u001b[0m \u001b[0m_wrapit\u001b[0m\u001b[1;33m(\u001b[0m\u001b[0mobj\u001b[0m\u001b[1;33m,\u001b[0m \u001b[0mmethod\u001b[0m\u001b[1;33m,\u001b[0m \u001b[1;33m*\u001b[0m\u001b[0margs\u001b[0m\u001b[1;33m,\u001b[0m \u001b[1;33m**\u001b[0m\u001b[0mkwds\u001b[0m\u001b[1;33m)\u001b[0m\u001b[1;33m\u001b[0m\u001b[1;33m\u001b[0m\u001b[0m\n\u001b[0m\u001b[0;32m     59\u001b[0m \u001b[1;33m\u001b[0m\u001b[0m\n\u001b[0;32m     60\u001b[0m     \u001b[1;32mtry\u001b[0m\u001b[1;33m:\u001b[0m\u001b[1;33m\u001b[0m\u001b[1;33m\u001b[0m\u001b[0m\n",
      "\u001b[1;32m~\\Anaconda3\\lib\\site-packages\\numpy\\core\\fromnumeric.py\u001b[0m in \u001b[0;36m_wrapit\u001b[1;34m(obj, method, *args, **kwds)\u001b[0m\n\u001b[0;32m     45\u001b[0m     \u001b[1;32mexcept\u001b[0m \u001b[0mAttributeError\u001b[0m\u001b[1;33m:\u001b[0m\u001b[1;33m\u001b[0m\u001b[1;33m\u001b[0m\u001b[0m\n\u001b[0;32m     46\u001b[0m         \u001b[0mwrap\u001b[0m \u001b[1;33m=\u001b[0m \u001b[1;32mNone\u001b[0m\u001b[1;33m\u001b[0m\u001b[1;33m\u001b[0m\u001b[0m\n\u001b[1;32m---> 47\u001b[1;33m     \u001b[0mresult\u001b[0m \u001b[1;33m=\u001b[0m \u001b[0mgetattr\u001b[0m\u001b[1;33m(\u001b[0m\u001b[0masarray\u001b[0m\u001b[1;33m(\u001b[0m\u001b[0mobj\u001b[0m\u001b[1;33m)\u001b[0m\u001b[1;33m,\u001b[0m \u001b[0mmethod\u001b[0m\u001b[1;33m)\u001b[0m\u001b[1;33m(\u001b[0m\u001b[1;33m*\u001b[0m\u001b[0margs\u001b[0m\u001b[1;33m,\u001b[0m \u001b[1;33m**\u001b[0m\u001b[0mkwds\u001b[0m\u001b[1;33m)\u001b[0m\u001b[1;33m\u001b[0m\u001b[1;33m\u001b[0m\u001b[0m\n\u001b[0m\u001b[0;32m     48\u001b[0m     \u001b[1;32mif\u001b[0m \u001b[0mwrap\u001b[0m\u001b[1;33m:\u001b[0m\u001b[1;33m\u001b[0m\u001b[1;33m\u001b[0m\u001b[0m\n\u001b[0;32m     49\u001b[0m         \u001b[1;32mif\u001b[0m \u001b[1;32mnot\u001b[0m \u001b[0misinstance\u001b[0m\u001b[1;33m(\u001b[0m\u001b[0mresult\u001b[0m\u001b[1;33m,\u001b[0m \u001b[0mmu\u001b[0m\u001b[1;33m.\u001b[0m\u001b[0mndarray\u001b[0m\u001b[1;33m)\u001b[0m\u001b[1;33m:\u001b[0m\u001b[1;33m\u001b[0m\u001b[1;33m\u001b[0m\u001b[0m\n",
      "\u001b[1;31mValueError\u001b[0m: attempt to get argmax of an empty sequence"
     ]
    }
   ],
   "source": [
    "end_date = dates[np.argmax(percentages)]"
   ]
  },
  {
   "cell_type": "code",
   "execution_count": 41,
   "metadata": {
    "ExecuteTime": {
     "end_time": "2020-01-24T07:51:43.416875Z",
     "start_time": "2020-01-24T07:51:43.410976Z"
    }
   },
   "outputs": [
    {
     "data": {
      "text/plain": [
       "7"
      ]
     },
     "execution_count": 41,
     "metadata": {},
     "output_type": "execute_result"
    }
   ],
   "source": [
    "months_diff(patients_df[\"Date of Exam \"].iloc[0], end_date)"
   ]
  },
  {
   "cell_type": "code",
   "execution_count": 45,
   "metadata": {
    "ExecuteTime": {
     "end_time": "2020-01-24T07:51:50.463347Z",
     "start_time": "2020-01-24T07:51:50.422910Z"
    }
   },
   "outputs": [
    {
     "ename": "KeyError",
     "evalue": "'months'",
     "output_type": "error",
     "traceback": [
      "\u001b[1;31m---------------------------------------------------------------------------\u001b[0m",
      "\u001b[1;31mKeyError\u001b[0m                                  Traceback (most recent call last)",
      "\u001b[1;32m~\\Anaconda3\\lib\\site-packages\\pandas\\core\\indexes\\base.py\u001b[0m in \u001b[0;36mget_loc\u001b[1;34m(self, key, method, tolerance)\u001b[0m\n\u001b[0;32m   2896\u001b[0m             \u001b[1;32mtry\u001b[0m\u001b[1;33m:\u001b[0m\u001b[1;33m\u001b[0m\u001b[1;33m\u001b[0m\u001b[0m\n\u001b[1;32m-> 2897\u001b[1;33m                 \u001b[1;32mreturn\u001b[0m \u001b[0mself\u001b[0m\u001b[1;33m.\u001b[0m\u001b[0m_engine\u001b[0m\u001b[1;33m.\u001b[0m\u001b[0mget_loc\u001b[0m\u001b[1;33m(\u001b[0m\u001b[0mkey\u001b[0m\u001b[1;33m)\u001b[0m\u001b[1;33m\u001b[0m\u001b[1;33m\u001b[0m\u001b[0m\n\u001b[0m\u001b[0;32m   2898\u001b[0m             \u001b[1;32mexcept\u001b[0m \u001b[0mKeyError\u001b[0m\u001b[1;33m:\u001b[0m\u001b[1;33m\u001b[0m\u001b[1;33m\u001b[0m\u001b[0m\n",
      "\u001b[1;32mpandas/_libs/index.pyx\u001b[0m in \u001b[0;36mpandas._libs.index.IndexEngine.get_loc\u001b[1;34m()\u001b[0m\n",
      "\u001b[1;32mpandas/_libs/index.pyx\u001b[0m in \u001b[0;36mpandas._libs.index.IndexEngine.get_loc\u001b[1;34m()\u001b[0m\n",
      "\u001b[1;32mpandas/_libs/hashtable_class_helper.pxi\u001b[0m in \u001b[0;36mpandas._libs.hashtable.PyObjectHashTable.get_item\u001b[1;34m()\u001b[0m\n",
      "\u001b[1;32mpandas/_libs/hashtable_class_helper.pxi\u001b[0m in \u001b[0;36mpandas._libs.hashtable.PyObjectHashTable.get_item\u001b[1;34m()\u001b[0m\n",
      "\u001b[1;31mKeyError\u001b[0m: 'months'",
      "\nDuring handling of the above exception, another exception occurred:\n",
      "\u001b[1;31mKeyError\u001b[0m                                  Traceback (most recent call last)",
      "\u001b[1;32m<ipython-input-45-22adb86e03b3>\u001b[0m in \u001b[0;36m<module>\u001b[1;34m\u001b[0m\n\u001b[1;32m----> 1\u001b[1;33m \u001b[0minitial_months\u001b[0m \u001b[1;33m=\u001b[0m \u001b[0mset\u001b[0m\u001b[1;33m(\u001b[0m\u001b[0medss_df\u001b[0m\u001b[1;33m[\u001b[0m\u001b[1;34m\"months\"\u001b[0m\u001b[1;33m]\u001b[0m\u001b[1;33m)\u001b[0m\u001b[1;33m\u001b[0m\u001b[1;33m\u001b[0m\u001b[0m\n\u001b[0m",
      "\u001b[1;32m~\\Anaconda3\\lib\\site-packages\\pandas\\core\\frame.py\u001b[0m in \u001b[0;36m__getitem__\u001b[1;34m(self, key)\u001b[0m\n\u001b[0;32m   2993\u001b[0m             \u001b[1;32mif\u001b[0m \u001b[0mself\u001b[0m\u001b[1;33m.\u001b[0m\u001b[0mcolumns\u001b[0m\u001b[1;33m.\u001b[0m\u001b[0mnlevels\u001b[0m \u001b[1;33m>\u001b[0m \u001b[1;36m1\u001b[0m\u001b[1;33m:\u001b[0m\u001b[1;33m\u001b[0m\u001b[1;33m\u001b[0m\u001b[0m\n\u001b[0;32m   2994\u001b[0m                 \u001b[1;32mreturn\u001b[0m \u001b[0mself\u001b[0m\u001b[1;33m.\u001b[0m\u001b[0m_getitem_multilevel\u001b[0m\u001b[1;33m(\u001b[0m\u001b[0mkey\u001b[0m\u001b[1;33m)\u001b[0m\u001b[1;33m\u001b[0m\u001b[1;33m\u001b[0m\u001b[0m\n\u001b[1;32m-> 2995\u001b[1;33m             \u001b[0mindexer\u001b[0m \u001b[1;33m=\u001b[0m \u001b[0mself\u001b[0m\u001b[1;33m.\u001b[0m\u001b[0mcolumns\u001b[0m\u001b[1;33m.\u001b[0m\u001b[0mget_loc\u001b[0m\u001b[1;33m(\u001b[0m\u001b[0mkey\u001b[0m\u001b[1;33m)\u001b[0m\u001b[1;33m\u001b[0m\u001b[1;33m\u001b[0m\u001b[0m\n\u001b[0m\u001b[0;32m   2996\u001b[0m             \u001b[1;32mif\u001b[0m \u001b[0mis_integer\u001b[0m\u001b[1;33m(\u001b[0m\u001b[0mindexer\u001b[0m\u001b[1;33m)\u001b[0m\u001b[1;33m:\u001b[0m\u001b[1;33m\u001b[0m\u001b[1;33m\u001b[0m\u001b[0m\n\u001b[0;32m   2997\u001b[0m                 \u001b[0mindexer\u001b[0m \u001b[1;33m=\u001b[0m \u001b[1;33m[\u001b[0m\u001b[0mindexer\u001b[0m\u001b[1;33m]\u001b[0m\u001b[1;33m\u001b[0m\u001b[1;33m\u001b[0m\u001b[0m\n",
      "\u001b[1;32m~\\Anaconda3\\lib\\site-packages\\pandas\\core\\indexes\\base.py\u001b[0m in \u001b[0;36mget_loc\u001b[1;34m(self, key, method, tolerance)\u001b[0m\n\u001b[0;32m   2897\u001b[0m                 \u001b[1;32mreturn\u001b[0m \u001b[0mself\u001b[0m\u001b[1;33m.\u001b[0m\u001b[0m_engine\u001b[0m\u001b[1;33m.\u001b[0m\u001b[0mget_loc\u001b[0m\u001b[1;33m(\u001b[0m\u001b[0mkey\u001b[0m\u001b[1;33m)\u001b[0m\u001b[1;33m\u001b[0m\u001b[1;33m\u001b[0m\u001b[0m\n\u001b[0;32m   2898\u001b[0m             \u001b[1;32mexcept\u001b[0m \u001b[0mKeyError\u001b[0m\u001b[1;33m:\u001b[0m\u001b[1;33m\u001b[0m\u001b[1;33m\u001b[0m\u001b[0m\n\u001b[1;32m-> 2899\u001b[1;33m                 \u001b[1;32mreturn\u001b[0m \u001b[0mself\u001b[0m\u001b[1;33m.\u001b[0m\u001b[0m_engine\u001b[0m\u001b[1;33m.\u001b[0m\u001b[0mget_loc\u001b[0m\u001b[1;33m(\u001b[0m\u001b[0mself\u001b[0m\u001b[1;33m.\u001b[0m\u001b[0m_maybe_cast_indexer\u001b[0m\u001b[1;33m(\u001b[0m\u001b[0mkey\u001b[0m\u001b[1;33m)\u001b[0m\u001b[1;33m)\u001b[0m\u001b[1;33m\u001b[0m\u001b[1;33m\u001b[0m\u001b[0m\n\u001b[0m\u001b[0;32m   2900\u001b[0m         \u001b[0mindexer\u001b[0m \u001b[1;33m=\u001b[0m \u001b[0mself\u001b[0m\u001b[1;33m.\u001b[0m\u001b[0mget_indexer\u001b[0m\u001b[1;33m(\u001b[0m\u001b[1;33m[\u001b[0m\u001b[0mkey\u001b[0m\u001b[1;33m]\u001b[0m\u001b[1;33m,\u001b[0m \u001b[0mmethod\u001b[0m\u001b[1;33m=\u001b[0m\u001b[0mmethod\u001b[0m\u001b[1;33m,\u001b[0m \u001b[0mtolerance\u001b[0m\u001b[1;33m=\u001b[0m\u001b[0mtolerance\u001b[0m\u001b[1;33m)\u001b[0m\u001b[1;33m\u001b[0m\u001b[1;33m\u001b[0m\u001b[0m\n\u001b[0;32m   2901\u001b[0m         \u001b[1;32mif\u001b[0m \u001b[0mindexer\u001b[0m\u001b[1;33m.\u001b[0m\u001b[0mndim\u001b[0m \u001b[1;33m>\u001b[0m \u001b[1;36m1\u001b[0m \u001b[1;32mor\u001b[0m \u001b[0mindexer\u001b[0m\u001b[1;33m.\u001b[0m\u001b[0msize\u001b[0m \u001b[1;33m>\u001b[0m \u001b[1;36m1\u001b[0m\u001b[1;33m:\u001b[0m\u001b[1;33m\u001b[0m\u001b[1;33m\u001b[0m\u001b[0m\n",
      "\u001b[1;32mpandas/_libs/index.pyx\u001b[0m in \u001b[0;36mpandas._libs.index.IndexEngine.get_loc\u001b[1;34m()\u001b[0m\n",
      "\u001b[1;32mpandas/_libs/index.pyx\u001b[0m in \u001b[0;36mpandas._libs.index.IndexEngine.get_loc\u001b[1;34m()\u001b[0m\n",
      "\u001b[1;32mpandas/_libs/hashtable_class_helper.pxi\u001b[0m in \u001b[0;36mpandas._libs.hashtable.PyObjectHashTable.get_item\u001b[1;34m()\u001b[0m\n",
      "\u001b[1;32mpandas/_libs/hashtable_class_helper.pxi\u001b[0m in \u001b[0;36mpandas._libs.hashtable.PyObjectHashTable.get_item\u001b[1;34m()\u001b[0m\n",
      "\u001b[1;31mKeyError\u001b[0m: 'months'"
     ]
    }
   ],
   "source": [
    "initial_months = set(edss_df[\"months\"])"
   ]
  },
  {
   "cell_type": "code",
   "execution_count": 47,
   "metadata": {
    "ExecuteTime": {
     "end_time": "2020-01-24T07:52:07.147998Z",
     "start_time": "2020-01-24T07:52:06.867420Z"
    }
   },
   "outputs": [
    {
     "data": {
      "text/plain": [
       "[<matplotlib.lines.Line2D at 0x24ab93c2a88>]"
      ]
     },
     "execution_count": 47,
     "metadata": {},
     "output_type": "execute_result"
    },
    {
     "data": {
      "image/png": "[encoded data removed]",
      "text/plain": [
       "<Figure size 1440x720 with 1 Axes>"
      ]
     },
     "metadata": {
      "needs_background": "light"
     },
     "output_type": "display_data"
    }
   ],
   "source": [
    "plt.figure(figsize=(20, 10))\n",
    "plt.plot(dates, percentages)"
   ]
  },
  {
   "cell_type": "code",
   "execution_count": 44,
   "metadata": {
    "ExecuteTime": {
     "end_time": "2020-01-24T07:51:48.971685Z",
     "start_time": "2020-01-24T07:51:48.961149Z"
    }
   },
   "outputs": [],
   "source": [
    "patients_df[\"months\"] = patients_df[\"Date of Exam \"].apply(lambda x: months_diff(x, end_date))"
   ]
  },
  {
   "cell_type": "markdown",
   "metadata": {},
   "source": [
    "# Match by 3d lesions"
   ]
  },
  {
   "cell_type": "code",
   "execution_count": 49,
   "metadata": {
    "ExecuteTime": {
     "end_time": "2020-01-24T07:52:16.169371Z",
     "start_time": "2020-01-24T07:52:16.156882Z"
    }
   },
   "outputs": [],
   "source": [
    "def process_plq(path, z_index, polygon):\n",
    "    params = loadmat(path)\n",
    "    shape = params[\"yi\"].reshape(-1).shape[0]\n",
    "    return list(zip(\n",
    "        params[\"xi\"].reshape(-1), \n",
    "        params[\"yi\"].reshape(-1), \n",
    "        [z_index] * shape,\n",
    "        [polygon] * shape\n",
    "    ))"
   ]
  },
  {
   "cell_type": "code",
   "execution_count": 50,
   "metadata": {
    "ExecuteTime": {
     "end_time": "2020-01-24T07:52:16.899425Z",
     "start_time": "2020-01-24T07:52:16.877940Z"
    }
   },
   "outputs": [],
   "source": [
    "def read_points(path):\n",
    "    all_points = []\n",
    "    for root, _, files in os.walk(path):\n",
    "        for index, file in enumerate(sorted([f for f in files if \".plq\" in f])):\n",
    "            z_index = int(file.split(\"_\")[1].split(\".\")[0])\n",
    "            path = root + \"/\" + file\n",
    "            all_points += process_plq(path, z_index, index)\n",
    "    points_df = pd.DataFrame(all_points, columns=[\"x\", \"y\", \"z_index\", \"polygon\"])\n",
    "    points_df[\"x_mm\"] = points_df[\"x\"] / 2.26\n",
    "    points_df[\"y_mm\"] = points_df[\"y\"] / 2.26\n",
    "    points_df[\"z_mm\"] = (points_df[\"z_index\"] - points_df[\"z_index\"].min()) * 5\n",
    "    return points_df"
   ]
  },
  {
   "cell_type": "code",
   "execution_count": 51,
   "metadata": {
    "ExecuteTime": {
     "end_time": "2020-01-24T07:52:17.547979Z",
     "start_time": "2020-01-24T07:52:17.532034Z"
    }
   },
   "outputs": [],
   "source": [
    "def create_extended_polygon(points_df, polygon_index, buffer=10):\n",
    "    polygon_points = points_df[points_df[\"polygon\"] == polygon_index][[\"x\", \"y\"]].values.tolist()\n",
    "    polygon = Polygon(polygon_points).buffer(buffer)\n",
    "    try:\n",
    "        areas = [p.area for p in polygon]\n",
    "        return polygon[np.argmax(areas)]\n",
    "    except:\n",
    "        return polygon.exterior"
   ]
  },
  {
   "cell_type": "code",
   "execution_count": 52,
   "metadata": {
    "ExecuteTime": {
     "end_time": "2020-01-24T07:52:19.479197Z",
     "start_time": "2020-01-24T07:52:19.474210Z"
    }
   },
   "outputs": [],
   "source": [
    "def intersected(points_df, polygon_one, polygon_two):\n",
    "    polygon_one_object = create_extended_polygon(points_df, polygon_one)\n",
    "    polygon_two_object = create_extended_polygon(points_df, polygon_two)\n",
    "    return polygon_one_object.intersects(polygon_two_object)"
   ]
  },
  {
   "cell_type": "code",
   "execution_count": 53,
   "metadata": {
    "ExecuteTime": {
     "end_time": "2020-01-24T07:52:23.594533Z",
     "start_time": "2020-01-24T07:52:23.587547Z"
    }
   },
   "outputs": [],
   "source": [
    "def create_graph(points_df):\n",
    "    nodes = points_df[\"polygon\"].unique().tolist()\n",
    "    edges = []\n",
    "    z_indices = sorted(points_df[\"z_index\"].unique().tolist())\n",
    "    for prev_index, z_index in enumerate(z_indices[1:]):\n",
    "        prev_z_index = z_indices[prev_index]\n",
    "        if prev_z_index + 1 < z_index:\n",
    "            continue\n",
    "        polygons = points_df[points_df[\"z_index\"] == z_index][\"polygon\"].unique().tolist()\n",
    "        prev_polygons = points_df[points_df[\"z_index\"] == prev_z_index][\"polygon\"].unique().tolist()\n",
    "# #         Uncomment to join polygons on the same level\n",
    "#         for polygon_one in polygons:\n",
    "#             for polygon_two in polygons:\n",
    "#                 if polygon_two > polygon_one:\n",
    "#                     if intersected(points_df, polygon_one, polygon_two):\n",
    "#                         edges.append((polygon_one, polygon_two))\n",
    "        for polygon in polygons:\n",
    "            for prev_polygon in prev_polygons:\n",
    "                if intersected(points_df, polygon, prev_polygon):\n",
    "                    edges.append((prev_polygon, polygon))\n",
    "    return nodes, edges"
   ]
  },
  {
   "cell_type": "code",
   "execution_count": 54,
   "metadata": {
    "ExecuteTime": {
     "end_time": "2020-01-24T07:52:23.604555Z",
     "start_time": "2020-01-24T07:52:23.596090Z"
    }
   },
   "outputs": [],
   "source": [
    "def get_lesions_number(path):\n",
    "    points_df = read_points(path)\n",
    "    nodes, edges = create_graph(points_df)  \n",
    "    lesions_graph = nx.Graph()\n",
    "    lesions_graph.add_nodes_from(nodes)\n",
    "    lesions_graph.add_edges_from(edges)\n",
    "    lesions = list(nx.connected_components(lesions_graph))\n",
    "    return points_df, lesions"
   ]
  },
  {
   "cell_type": "code",
   "execution_count": 55,
   "metadata": {
    "ExecuteTime": {
     "end_time": "2020-01-24T07:52:23.611542Z",
     "start_time": "2020-01-24T07:52:23.605552Z"
    }
   },
   "outputs": [],
   "source": [
    "patients_to_lesions_df = patients_df[[\"CODE\"]].copy().set_index(\"CODE\")"
   ]
  },
  {
   "cell_type": "code",
   "execution_count": 56,
   "metadata": {
    "ExecuteTime": {
     "end_time": "2020-01-24T07:52:30.404041Z",
     "start_time": "2020-01-24T07:52:30.341710Z"
    },
    "scrolled": true
   },
   "outputs": [
    {
     "name": "stderr",
     "output_type": "stream",
     "text": [
      "C:\\Users\\msubh\\Anaconda3\\lib\\site-packages\\ipykernel_launcher.py:1: TqdmDeprecationWarning: This function will be removed in tqdm==5.0.0\n",
      "Please use `tqdm.notebook.tqdm` instead of `tqdm.tqdm_notebook`\n",
      "  \"\"\"Entry point for launching an IPython kernel.\n"
     ]
    },
    {
     "data": {
      "application/vnd.jupyter.widget-view+json": {
       "model_id": "c586b647f53b48a7bf9ecaf05d18a382",
       "version_major": 2,
       "version_minor": 0
      },
      "text/plain": [
       "HBox(children=(FloatProgress(value=0.0, max=38.0), HTML(value='')))"
      ]
     },
     "metadata": {},
     "output_type": "display_data"
    },
    {
     "ename": "NameError",
     "evalue": "name 'Polygon' is not defined",
     "output_type": "error",
     "traceback": [
      "\u001b[1;31m---------------------------------------------------------------------------\u001b[0m",
      "\u001b[1;31mNameError\u001b[0m                                 Traceback (most recent call last)",
      "\u001b[1;32m<ipython-input-56-ff65867b5d4b>\u001b[0m in \u001b[0;36m<module>\u001b[1;34m\u001b[0m\n\u001b[0;32m      2\u001b[0m     \u001b[1;32mfor\u001b[0m \u001b[0mperiod\u001b[0m \u001b[1;32min\u001b[0m \u001b[1;33m[\u001b[0m\u001b[1;34m\"1\"\u001b[0m\u001b[1;33m,\u001b[0m \u001b[1;34m\"2\"\u001b[0m\u001b[1;33m]\u001b[0m\u001b[1;33m:\u001b[0m\u001b[1;33m\u001b[0m\u001b[1;33m\u001b[0m\u001b[0m\n\u001b[0;32m      3\u001b[0m         \u001b[0mpath\u001b[0m \u001b[1;33m=\u001b[0m \u001b[1;34m\"data/Initial & repeat MRI in MS-Free Dataset/{}/{}\"\u001b[0m\u001b[1;33m.\u001b[0m\u001b[0mformat\u001b[0m\u001b[1;33m(\u001b[0m\u001b[0mpatient\u001b[0m\u001b[1;33m,\u001b[0m \u001b[0mperiod\u001b[0m\u001b[1;33m)\u001b[0m\u001b[1;33m\u001b[0m\u001b[1;33m\u001b[0m\u001b[0m\n\u001b[1;32m----> 4\u001b[1;33m         \u001b[0mpatients_to_lesions_df\u001b[0m\u001b[1;33m.\u001b[0m\u001b[0mloc\u001b[0m\u001b[1;33m[\u001b[0m\u001b[0mpatient\u001b[0m\u001b[1;33m,\u001b[0m \u001b[1;34m\"lesions_{}\"\u001b[0m\u001b[1;33m.\u001b[0m\u001b[0mformat\u001b[0m\u001b[1;33m(\u001b[0m\u001b[0mperiod\u001b[0m\u001b[1;33m)\u001b[0m\u001b[1;33m]\u001b[0m \u001b[1;33m=\u001b[0m \u001b[0mlen\u001b[0m\u001b[1;33m(\u001b[0m\u001b[0mget_lesions_number\u001b[0m\u001b[1;33m(\u001b[0m\u001b[0mpath\u001b[0m\u001b[1;33m)\u001b[0m\u001b[1;33m[\u001b[0m\u001b[1;36m1\u001b[0m\u001b[1;33m]\u001b[0m\u001b[1;33m)\u001b[0m\u001b[1;33m\u001b[0m\u001b[1;33m\u001b[0m\u001b[0m\n\u001b[0m",
      "\u001b[1;32m<ipython-input-54-308c4a602f63>\u001b[0m in \u001b[0;36mget_lesions_number\u001b[1;34m(path)\u001b[0m\n\u001b[0;32m      1\u001b[0m \u001b[1;32mdef\u001b[0m \u001b[0mget_lesions_number\u001b[0m\u001b[1;33m(\u001b[0m\u001b[0mpath\u001b[0m\u001b[1;33m)\u001b[0m\u001b[1;33m:\u001b[0m\u001b[1;33m\u001b[0m\u001b[1;33m\u001b[0m\u001b[0m\n\u001b[0;32m      2\u001b[0m     \u001b[0mpoints_df\u001b[0m \u001b[1;33m=\u001b[0m \u001b[0mread_points\u001b[0m\u001b[1;33m(\u001b[0m\u001b[0mpath\u001b[0m\u001b[1;33m)\u001b[0m\u001b[1;33m\u001b[0m\u001b[1;33m\u001b[0m\u001b[0m\n\u001b[1;32m----> 3\u001b[1;33m     \u001b[0mnodes\u001b[0m\u001b[1;33m,\u001b[0m \u001b[0medges\u001b[0m \u001b[1;33m=\u001b[0m \u001b[0mcreate_graph\u001b[0m\u001b[1;33m(\u001b[0m\u001b[0mpoints_df\u001b[0m\u001b[1;33m)\u001b[0m\u001b[1;33m\u001b[0m\u001b[1;33m\u001b[0m\u001b[0m\n\u001b[0m\u001b[0;32m      4\u001b[0m     \u001b[0mlesions_graph\u001b[0m \u001b[1;33m=\u001b[0m \u001b[0mnx\u001b[0m\u001b[1;33m.\u001b[0m\u001b[0mGraph\u001b[0m\u001b[1;33m(\u001b[0m\u001b[1;33m)\u001b[0m\u001b[1;33m\u001b[0m\u001b[1;33m\u001b[0m\u001b[0m\n\u001b[0;32m      5\u001b[0m     \u001b[0mlesions_graph\u001b[0m\u001b[1;33m.\u001b[0m\u001b[0madd_nodes_from\u001b[0m\u001b[1;33m(\u001b[0m\u001b[0mnodes\u001b[0m\u001b[1;33m)\u001b[0m\u001b[1;33m\u001b[0m\u001b[1;33m\u001b[0m\u001b[0m\n",
      "\u001b[1;32m<ipython-input-53-4fc9c61b3b0d>\u001b[0m in \u001b[0;36mcreate_graph\u001b[1;34m(points_df)\u001b[0m\n\u001b[0;32m     17\u001b[0m         \u001b[1;32mfor\u001b[0m \u001b[0mpolygon\u001b[0m \u001b[1;32min\u001b[0m \u001b[0mpolygons\u001b[0m\u001b[1;33m:\u001b[0m\u001b[1;33m\u001b[0m\u001b[1;33m\u001b[0m\u001b[0m\n\u001b[0;32m     18\u001b[0m             \u001b[1;32mfor\u001b[0m \u001b[0mprev_polygon\u001b[0m \u001b[1;32min\u001b[0m \u001b[0mprev_polygons\u001b[0m\u001b[1;33m:\u001b[0m\u001b[1;33m\u001b[0m\u001b[1;33m\u001b[0m\u001b[0m\n\u001b[1;32m---> 19\u001b[1;33m                 \u001b[1;32mif\u001b[0m \u001b[0mintersected\u001b[0m\u001b[1;33m(\u001b[0m\u001b[0mpoints_df\u001b[0m\u001b[1;33m,\u001b[0m \u001b[0mpolygon\u001b[0m\u001b[1;33m,\u001b[0m \u001b[0mprev_polygon\u001b[0m\u001b[1;33m)\u001b[0m\u001b[1;33m:\u001b[0m\u001b[1;33m\u001b[0m\u001b[1;33m\u001b[0m\u001b[0m\n\u001b[0m\u001b[0;32m     20\u001b[0m                     \u001b[0medges\u001b[0m\u001b[1;33m.\u001b[0m\u001b[0mappend\u001b[0m\u001b[1;33m(\u001b[0m\u001b[1;33m(\u001b[0m\u001b[0mprev_polygon\u001b[0m\u001b[1;33m,\u001b[0m \u001b[0mpolygon\u001b[0m\u001b[1;33m)\u001b[0m\u001b[1;33m)\u001b[0m\u001b[1;33m\u001b[0m\u001b[1;33m\u001b[0m\u001b[0m\n\u001b[0;32m     21\u001b[0m     \u001b[1;32mreturn\u001b[0m \u001b[0mnodes\u001b[0m\u001b[1;33m,\u001b[0m \u001b[0medges\u001b[0m\u001b[1;33m\u001b[0m\u001b[1;33m\u001b[0m\u001b[0m\n",
      "\u001b[1;32m<ipython-input-52-bb9342263c34>\u001b[0m in \u001b[0;36mintersected\u001b[1;34m(points_df, polygon_one, polygon_two)\u001b[0m\n\u001b[0;32m      1\u001b[0m \u001b[1;32mdef\u001b[0m \u001b[0mintersected\u001b[0m\u001b[1;33m(\u001b[0m\u001b[0mpoints_df\u001b[0m\u001b[1;33m,\u001b[0m \u001b[0mpolygon_one\u001b[0m\u001b[1;33m,\u001b[0m \u001b[0mpolygon_two\u001b[0m\u001b[1;33m)\u001b[0m\u001b[1;33m:\u001b[0m\u001b[1;33m\u001b[0m\u001b[1;33m\u001b[0m\u001b[0m\n\u001b[1;32m----> 2\u001b[1;33m     \u001b[0mpolygon_one_object\u001b[0m \u001b[1;33m=\u001b[0m \u001b[0mcreate_extended_polygon\u001b[0m\u001b[1;33m(\u001b[0m\u001b[0mpoints_df\u001b[0m\u001b[1;33m,\u001b[0m \u001b[0mpolygon_one\u001b[0m\u001b[1;33m)\u001b[0m\u001b[1;33m\u001b[0m\u001b[1;33m\u001b[0m\u001b[0m\n\u001b[0m\u001b[0;32m      3\u001b[0m     \u001b[0mpolygon_two_object\u001b[0m \u001b[1;33m=\u001b[0m \u001b[0mcreate_extended_polygon\u001b[0m\u001b[1;33m(\u001b[0m\u001b[0mpoints_df\u001b[0m\u001b[1;33m,\u001b[0m \u001b[0mpolygon_two\u001b[0m\u001b[1;33m)\u001b[0m\u001b[1;33m\u001b[0m\u001b[1;33m\u001b[0m\u001b[0m\n\u001b[0;32m      4\u001b[0m     \u001b[1;32mreturn\u001b[0m \u001b[0mpolygon_one_object\u001b[0m\u001b[1;33m.\u001b[0m\u001b[0mintersects\u001b[0m\u001b[1;33m(\u001b[0m\u001b[0mpolygon_two_object\u001b[0m\u001b[1;33m)\u001b[0m\u001b[1;33m\u001b[0m\u001b[1;33m\u001b[0m\u001b[0m\n",
      "\u001b[1;32m<ipython-input-51-49a623cda628>\u001b[0m in \u001b[0;36mcreate_extended_polygon\u001b[1;34m(points_df, polygon_index, buffer)\u001b[0m\n\u001b[0;32m      1\u001b[0m \u001b[1;32mdef\u001b[0m \u001b[0mcreate_extended_polygon\u001b[0m\u001b[1;33m(\u001b[0m\u001b[0mpoints_df\u001b[0m\u001b[1;33m,\u001b[0m \u001b[0mpolygon_index\u001b[0m\u001b[1;33m,\u001b[0m \u001b[0mbuffer\u001b[0m\u001b[1;33m=\u001b[0m\u001b[1;36m10\u001b[0m\u001b[1;33m)\u001b[0m\u001b[1;33m:\u001b[0m\u001b[1;33m\u001b[0m\u001b[1;33m\u001b[0m\u001b[0m\n\u001b[0;32m      2\u001b[0m     \u001b[0mpolygon_points\u001b[0m \u001b[1;33m=\u001b[0m \u001b[0mpoints_df\u001b[0m\u001b[1;33m[\u001b[0m\u001b[0mpoints_df\u001b[0m\u001b[1;33m[\u001b[0m\u001b[1;34m\"polygon\"\u001b[0m\u001b[1;33m]\u001b[0m \u001b[1;33m==\u001b[0m \u001b[0mpolygon_index\u001b[0m\u001b[1;33m]\u001b[0m\u001b[1;33m[\u001b[0m\u001b[1;33m[\u001b[0m\u001b[1;34m\"x\"\u001b[0m\u001b[1;33m,\u001b[0m \u001b[1;34m\"y\"\u001b[0m\u001b[1;33m]\u001b[0m\u001b[1;33m]\u001b[0m\u001b[1;33m.\u001b[0m\u001b[0mvalues\u001b[0m\u001b[1;33m.\u001b[0m\u001b[0mtolist\u001b[0m\u001b[1;33m(\u001b[0m\u001b[1;33m)\u001b[0m\u001b[1;33m\u001b[0m\u001b[1;33m\u001b[0m\u001b[0m\n\u001b[1;32m----> 3\u001b[1;33m     \u001b[0mpolygon\u001b[0m \u001b[1;33m=\u001b[0m \u001b[0mPolygon\u001b[0m\u001b[1;33m(\u001b[0m\u001b[0mpolygon_points\u001b[0m\u001b[1;33m)\u001b[0m\u001b[1;33m.\u001b[0m\u001b[0mbuffer\u001b[0m\u001b[1;33m(\u001b[0m\u001b[0mbuffer\u001b[0m\u001b[1;33m)\u001b[0m\u001b[1;33m\u001b[0m\u001b[1;33m\u001b[0m\u001b[0m\n\u001b[0m\u001b[0;32m      4\u001b[0m     \u001b[1;32mtry\u001b[0m\u001b[1;33m:\u001b[0m\u001b[1;33m\u001b[0m\u001b[1;33m\u001b[0m\u001b[0m\n\u001b[0;32m      5\u001b[0m         \u001b[0mareas\u001b[0m \u001b[1;33m=\u001b[0m \u001b[1;33m[\u001b[0m\u001b[0mp\u001b[0m\u001b[1;33m.\u001b[0m\u001b[0marea\u001b[0m \u001b[1;32mfor\u001b[0m \u001b[0mp\u001b[0m \u001b[1;32min\u001b[0m \u001b[0mpolygon\u001b[0m\u001b[1;33m]\u001b[0m\u001b[1;33m\u001b[0m\u001b[1;33m\u001b[0m\u001b[0m\n",
      "\u001b[1;31mNameError\u001b[0m: name 'Polygon' is not defined"
     ]
    }
   ],
   "source": [
    "for patient in tqdm_notebook(patients_to_lesions_df.index):\n",
    "    for period in [\"1\", \"2\"]:\n",
    "        path = \"data/Initial & repeat MRI in MS-Free Dataset/{}/{}\".format(patient, period)\n",
    "        patients_to_lesions_df.loc[patient, \"lesions_{}\".format(period)] = len(get_lesions_number(path)[1])"
   ]
  },
  {
   "cell_type": "code",
   "execution_count": 427,
   "metadata": {
    "scrolled": true
   },
   "outputs": [
    {
     "data": {
      "text/html": [
       "<div>\n",
       "<style scoped>\n",
       "    .dataframe tbody tr th:only-of-type {\n",
       "        vertical-align: middle;\n",
       "    }\n",
       "\n",
       "    .dataframe tbody tr th {\n",
       "        vertical-align: top;\n",
       "    }\n",
       "\n",
       "    .dataframe thead th {\n",
       "        text-align: right;\n",
       "    }\n",
       "</style>\n",
       "<table border=\"1\" class=\"dataframe\">\n",
       "  <thead>\n",
       "    <tr style=\"text-align: right;\">\n",
       "      <th></th>\n",
       "      <th>lesions_1</th>\n",
       "      <th>lesions_2</th>\n",
       "    </tr>\n",
       "    <tr>\n",
       "      <th>CODE</th>\n",
       "      <th></th>\n",
       "      <th></th>\n",
       "    </tr>\n",
       "  </thead>\n",
       "  <tbody>\n",
       "    <tr>\n",
       "      <th>AT</th>\n",
       "      <td>6.0</td>\n",
       "      <td>7.0</td>\n",
       "    </tr>\n",
       "    <tr>\n",
       "      <th>AA</th>\n",
       "      <td>23.0</td>\n",
       "      <td>23.0</td>\n",
       "    </tr>\n",
       "    <tr>\n",
       "      <th>GPE</th>\n",
       "      <td>21.0</td>\n",
       "      <td>22.0</td>\n",
       "    </tr>\n",
       "    <tr>\n",
       "      <th>HC</th>\n",
       "      <td>9.0</td>\n",
       "      <td>14.0</td>\n",
       "    </tr>\n",
       "    <tr>\n",
       "      <th>IO</th>\n",
       "      <td>24.0</td>\n",
       "      <td>29.0</td>\n",
       "    </tr>\n",
       "  </tbody>\n",
       "</table>\n",
       "</div>"
      ],
      "text/plain": [
       "      lesions_1  lesions_2\n",
       "CODE                      \n",
       "AT          6.0        7.0\n",
       "AA         23.0       23.0\n",
       "GPE        21.0       22.0\n",
       "HC          9.0       14.0\n",
       "IO         24.0       29.0"
      ]
     },
     "execution_count": 427,
     "metadata": {},
     "output_type": "execute_result"
    }
   ],
   "source": [
    "patients_to_lesions_df.head()"
   ]
  },
  {
   "cell_type": "code",
   "execution_count": 467,
   "metadata": {},
   "outputs": [],
   "source": [
    "main_path = \"./Initial & repeat MRI in MS-Free Dataset/TZN/2\""
   ]
  },
  {
   "cell_type": "code",
   "execution_count": 468,
   "metadata": {},
   "outputs": [],
   "source": [
    "points_df, lesions = get_lesions_number(main_path)"
   ]
  },
  {
   "cell_type": "code",
   "execution_count": 469,
   "metadata": {},
   "outputs": [],
   "source": [
    "points_df[\"lesion\"] = points_df[\"polygon\"].apply(lambda x: [i for i, e in enumerate(lesions) if x in e][0]).astype(str)"
   ]
  },
  {
   "cell_type": "code",
   "execution_count": 470,
   "metadata": {
    "scrolled": true
   },
   "outputs": [
    {
     "data": {
      "application/vnd.plotly.v1+json": {
       "config": {
        "plotlyServerURL": "https://plot.ly"
       },
       "data": [
        {
         "hoverlabel": {
          "namelength": 0
         },
         "hovertemplate": "lesion=0<br>x_mm=%{x}<br>y_mm=%{y}<br>z_mm=%{z}",
         "legendgroup": "lesion=0",
         "marker": {
          "color": "#636efa",
          "opacity": 0.9,
          "symbol": "circle"
         },
         "mode": "markers",
         "name": "lesion=0",
         "scene": "scene",
         "showlegend": true,
         "type": "scatter3d",
         "x": [
          135.19240082771984,
          140.2643860344296,
          141.95504776999957,
          136.88306256328977,
          132.93818518029323,
          135.19240082771984
         ],
         "y": [
          157.17100339012893,
          154.3532338308458,
          148.71769471227933,
          151.53546427156255,
          155.48034165455908,
          157.17100339012893
         ],
         "z": [
          0,
          0,
          0,
          0,
          0,
          0
         ]
        },
        {
         "hoverlabel": {
          "namelength": 0
         },
         "hovertemplate": "lesion=1<br>x_mm=%{x}<br>y_mm=%{y}<br>z_mm=%{z}",
         "legendgroup": "lesion=1",
         "marker": {
          "color": "#EF553B",
          "opacity": 0.9,
          "symbol": "circle"
         },
         "mode": "markers",
         "name": "lesion=1",
         "scene": "scene",
         "showlegend": true,
         "type": "scatter3d",
         "x": [
          104.1969356756043,
          104.1969356756043,
          100.8156122044644,
          99.68850438075111,
          101.94272002817772,
          104.1969356756043,
          102.50627394003435,
          108.1418130586008,
          107.01470523488751,
          101.94272002817772,
          100.25205829260777,
          96.30718090961125,
          96.30718090961125,
          102.50627394003435,
          108.1418130586008,
          108.1418130586008,
          104.76048958746094,
          103.069827851891,
          105.32404349931757,
          108.1418130586008,
          107.01470523488751,
          107.01470523488751,
          107.01470523488751,
          104.1969356756043,
          103.63338176374764,
          104.76048958746094,
          108.1418130586008,
          108.1418130586008,
          107.01470523488751
         ],
         "y": [
          128.42975388544002,
          124.48487650244357,
          124.48487650244357,
          128.42975388544008,
          130.68396953286666,
          128.42975388544002,
          130.6839695328666,
          129.55686170915337,
          122.79421476687362,
          118.8493373838771,
          122.79421476687362,
          127.30264606172679,
          127.30264606172679,
          130.6839695328666,
          136.31950865143313,
          131.81107735657994,
          132.93818518029326,
          135.19240082771984,
          135.75595473957648,
          136.31950865143313,
          125.6119843261568,
          119.97644520759039,
          117.15867564830717,
          118.28578347202046,
          121.66710694316033,
          124.48487650244357,
          127.30264606172679,
          127.30264606172679,
          125.6119843261568
         ],
         "z": [
          5,
          5,
          5,
          5,
          5,
          5,
          10,
          10,
          10,
          10,
          10,
          10,
          10,
          10,
          10,
          10,
          10,
          10,
          10,
          10,
          15,
          15,
          15,
          15,
          15,
          15,
          15,
          15,
          15
         ]
        },
        {
         "hoverlabel": {
          "namelength": 0
         },
         "hovertemplate": "lesion=2<br>x_mm=%{x}<br>y_mm=%{y}<br>z_mm=%{z}",
         "legendgroup": "lesion=2",
         "marker": {
          "color": "#00cc96",
          "opacity": 0.9,
          "symbol": "circle"
         },
         "mode": "markers",
         "name": "lesion=2",
         "scene": "scene",
         "showlegend": true,
         "type": "scatter3d",
         "x": [
          154.3532338308458,
          158.86166512569895,
          159.42521903755562,
          154.35323383084577,
          151.53546427156252,
          154.3532338308458
         ],
         "y": [
          132.37463126843653,
          132.3746312684366,
          127.86619997358342,
          127.86619997358342,
          129.55686170915337,
          132.37463126843653
         ],
         "z": [
          30,
          30,
          30,
          30,
          30,
          30
         ]
        },
        {
         "hoverlabel": {
          "namelength": 0
         },
         "hovertemplate": "lesion=3<br>x_mm=%{x}<br>y_mm=%{y}<br>z_mm=%{z}",
         "legendgroup": "lesion=3",
         "marker": {
          "color": "#ab63fa",
          "opacity": 0.9,
          "symbol": "circle"
         },
         "mode": "markers",
         "name": "lesion=3",
         "scene": "scene",
         "showlegend": true,
         "type": "scatter3d",
         "x": [
          105.32404349931757,
          105.32404349931757,
          100.25205829260777,
          96.30718090961125,
          94.05296526218466,
          92.36230352661471,
          96.30718090961125,
          100.25205829260777,
          103.069827851891,
          106.45115132303086,
          103.069827851891,
          105.32404349931757,
          113.21379826531063,
          113.21379826531063,
          110.95958261788404,
          108.1418130586008,
          105.32404349931757,
          102.50627394003435,
          97.99784264518117,
          92.92585743847137,
          92.36230352661471,
          92.36230352661471,
          95.7436269977546,
          100.25205829260777,
          100.8156122044644,
          105.88759741117423,
          109.83247479417075,
          112.08669044159733,
          113.21379826531063,
          109.83247479417075,
          109.83247479417075,
          108.1418130586008,
          103.069827851891,
          98.56139655703782,
          94.61651917404131,
          94.61651917404131,
          97.99784264518117,
          100.25205829260777,
          104.1969356756043,
          110.39602870602741,
          109.83247479417075
         ],
         "y": [
          72.63791661163206,
          64.74816184563907,
          62.493946198212484,
          65.31171575749572,
          69.82014705234889,
          72.63791661163212,
          74.32857834720205,
          74.32857834720205,
          77.70990181834195,
          77.70990181834195,
          72.63791661163212,
          72.63791661163206,
          79.96411746576847,
          75.45568617091534,
          69.82014705234889,
          68.6930392286356,
          62.493946198212484,
          59.11262272707262,
          61.930392286355854,
          65.87526966935236,
          70.38370096420554,
          74.89213225905871,
          76.019240082772,
          72.63791661163212,
          72.07436269977549,
          78.2734557301986,
          79.96411746576852,
          79.96411746576852,
          79.96411746576847,
          79.96411746576847,
          72.07436269977549,
          66.43882358120902,
          63.05750011006914,
          65.31171575749572,
          69.82014705234889,
          71.51080878791883,
          73.20147052348877,
          75.45568617091534,
          76.58279399462863,
          79.40056355391187,
          79.96411746576847
         ],
         "z": [
          35,
          35,
          35,
          35,
          35,
          35,
          35,
          35,
          35,
          35,
          35,
          35,
          40,
          40,
          40,
          40,
          40,
          40,
          40,
          40,
          40,
          40,
          40,
          40,
          40,
          40,
          40,
          40,
          40,
          45,
          45,
          45,
          45,
          45,
          45,
          45,
          45,
          45,
          45,
          45,
          45
         ]
        },
        {
         "hoverlabel": {
          "namelength": 0
         },
         "hovertemplate": "lesion=4<br>x_mm=%{x}<br>y_mm=%{y}<br>z_mm=%{z}",
         "legendgroup": "lesion=4",
         "marker": {
          "color": "#FFA15A",
          "opacity": 0.9,
          "symbol": "circle"
         },
         "mode": "markers",
         "name": "lesion=4",
         "scene": "scene",
         "showlegend": true,
         "type": "scatter3d",
         "x": [
          95.18007308589794,
          97.99784264518117,
          94.61651917404131,
          90.10808787918813,
          89.54453396733149,
          94.61651917404131,
          95.18007308589794,
          97.99784264518117,
          98.56139655703782,
          95.7436269977546,
          97.99784264518117,
          96.30718090961125,
          93.48941135032803,
          91.23519570290142,
          91.23519570290142,
          92.92585743847137,
          96.30718090961125,
          99.12495046889448,
          97.99784264518117
         ],
         "y": [
          159.98877294941224,
          156.04389556641573,
          152.09901818341922,
          153.2261260071325,
          157.73455730198566,
          161.11588077312555,
          159.98877294941224,
          166.75141989169202,
          163.93365033240877,
          160.5523268612689,
          156.04389556641573,
          153.78967991898915,
          154.3532338308458,
          158.86166512569895,
          162.80654250869546,
          164.49720424426542,
          165.6243120679787,
          166.75141989169202,
          166.75141989169202
         ],
         "z": [
          45,
          45,
          45,
          45,
          45,
          45,
          45,
          50,
          50,
          50,
          50,
          50,
          50,
          50,
          50,
          50,
          50,
          50,
          50
         ]
        },
        {
         "hoverlabel": {
          "namelength": 0
         },
         "hovertemplate": "lesion=5<br>x_mm=%{x}<br>y_mm=%{y}<br>z_mm=%{z}",
         "legendgroup": "lesion=5",
         "marker": {
          "color": "#19d3f3",
          "opacity": 0.9,
          "symbol": "circle"
         },
         "mode": "markers",
         "name": "lesion=5",
         "scene": "scene",
         "showlegend": true,
         "type": "scatter3d",
         "x": [
          140.82793994628625,
          143.08215559371283,
          145.33637124113946,
          140.82793994628625,
          139.13727821071635,
          140.82793994628625,
          139.13727821071635,
          141.39149385814292,
          144.20926341742614,
          141.95504776999957,
          139.700832122573,
          139.13727821071635
         ],
         "y": [
          168.44208162726196,
          169.56918945097524,
          163.93365033240877,
          162.24298859683884,
          165.6243120679787,
          168.44208162726196,
          167.31497380354864,
          168.44208162726196,
          167.31497380354864,
          163.93365033240877,
          164.49720424426542,
          167.31497380354864
         ],
         "z": [
          45,
          45,
          45,
          45,
          45,
          45,
          50,
          50,
          50,
          50,
          50,
          50
         ]
        },
        {
         "hoverlabel": {
          "namelength": 0
         },
         "hovertemplate": "lesion=6<br>x_mm=%{x}<br>y_mm=%{y}<br>z_mm=%{z}",
         "legendgroup": "lesion=6",
         "marker": {
          "color": "#FF6692",
          "opacity": 0.9,
          "symbol": "circle"
         },
         "mode": "markers",
         "name": "lesion=6",
         "scene": "scene",
         "showlegend": true,
         "type": "scatter3d",
         "x": [
          97.43428873332454,
          99.12495046889448,
          99.12495046889448,
          97.43428873332454,
          95.7436269977546,
          92.92585743847137,
          91.79874961475808,
          92.92585743847137,
          96.87073482146789,
          97.43428873332454,
          97.43428873332454
         ],
         "y": [
          126.1755382380134,
          123.92132259058691,
          118.28578347202046,
          117.7222295601638,
          116.59512173645051,
          119.41289129573374,
          121.10355303130368,
          123.35776867873025,
          123.35776867873025,
          127.86619997358342,
          126.1755382380134
         ],
         "z": [
          50,
          50,
          50,
          50,
          50,
          50,
          50,
          50,
          50,
          50,
          50
         ]
        },
        {
         "hoverlabel": {
          "namelength": 0
         },
         "hovertemplate": "lesion=7<br>x_mm=%{x}<br>y_mm=%{y}<br>z_mm=%{z}",
         "legendgroup": "lesion=7",
         "marker": {
          "color": "#B6E880",
          "opacity": 0.9,
          "symbol": "circle"
         },
         "mode": "markers",
         "name": "lesion=7",
         "scene": "scene",
         "showlegend": true,
         "type": "scatter3d",
         "x": [
          150.40835644784926,
          156.04389556641573,
          152.66257209527583,
          149.28124862413594,
          145.89992515299608,
          143.08215559371283,
          143.6457095055695,
          148.7176947122793,
          150.40835644784926,
          136.88306256328977,
          140.82793994628625,
          141.95504776999957,
          138.5737242988597,
          135.1924008277198,
          134.06529300400655,
          136.88306256328977,
          145.33637124113946,
          152.0990181834192,
          153.78967991898915,
          152.66257209527583,
          148.15414080042268,
          140.82793994628625,
          136.31950865143313,
          135.75595473957645,
          137.44661647514639,
          140.82793994628625,
          145.33637124113946,
          146.46347906485272,
          149.28124862413594,
          152.66257209527583,
          157.73455730198563,
          158.2981112138423,
          156.04389556641573,
          153.2261260071325,
          147.0270329767094,
          144.77281732928282,
          143.6457095055695,
          143.08215559371283,
          144.20926341742614,
          145.89992515299608,
          146.46347906485272,
          139.13727821071635,
          145.33637124113946,
          152.0990181834192,
          154.35323383084577,
          148.7176947122793,
          141.95504776999957,
          136.31950865143313,
          136.31950865143313,
          139.13727821071635,
          144.77281732928282,
          149.8448025359926,
          154.9167877427024,
          152.66257209527583,
          146.46347906485272,
          144.77281732928282,
          132.3746312684366,
          136.31950865143313,
          133.50173909214988,
          133.50173909214988,
          132.3746312684366,
          132.3746312684366,
          135.75595473957645,
          131.81107735657991,
          128.42975388544008,
          127.30264606172678,
          132.3746312684366,
          136.31950865143313,
          141.39149385814292,
          143.08215559371283,
          136.31950865143313,
          134.06529300400655,
          136.31950865143313
         ],
         "y": [
          146.46347906485275,
          144.77281732928282,
          139.13727821071635,
          137.4466164751464,
          139.700832122573,
          143.64570950556953,
          145.8999251529961,
          145.8999251529961,
          146.46347906485275,
          144.20926341742617,
          144.20926341742617,
          137.4466164751464,
          137.4466164751464,
          140.26438603442963,
          144.77281732928282,
          144.20926341742617,
          131.81107735657994,
          131.2475234447233,
          122.79421476687362,
          118.28578347202046,
          116.03156782459388,
          116.03156782459388,
          119.97644520759039,
          123.92132259058691,
          128.42975388544008,
          131.2475234447233,
          131.81107735657994,
          148.15414080042268,
          146.46347906485275,
          146.46347906485275,
          146.46347906485275,
          141.95504776999957,
          136.88306256328977,
          135.75595473957648,
          135.75595473957648,
          137.4466164751464,
          140.82793994628628,
          142.51860168185624,
          144.77281732928282,
          148.15414080042268,
          148.15414080042268,
          127.30264606172679,
          128.42975388544008,
          126.73909214987015,
          119.97644520759039,
          118.28578347202046,
          119.97644520759039,
          121.10355303130368,
          125.61198432615686,
          127.30264606172679,
          143.64570950556953,
          143.64570950556953,
          143.64570950556953,
          138.01017038700306,
          140.26438603442963,
          143.64570950556953,
          121.66710694316033,
          117.15867564830717,
          112.65024435345399,
          118.28578347202046,
          121.66710694316033,
          122.23066085501692,
          117.15867564830717,
          115.46801391273722,
          116.03156782459388,
          122.23066085501696,
          122.23066085501692,
          110.95958261788397,
          110.39602870602742,
          104.76048958746095,
          103.63338176374765,
          108.14181305860082,
          110.95958261788397
         ],
         "z": [
          50,
          50,
          50,
          50,
          50,
          50,
          50,
          50,
          50,
          50,
          50,
          50,
          50,
          50,
          50,
          50,
          55,
          55,
          55,
          55,
          55,
          55,
          55,
          55,
          55,
          55,
          55,
          55,
          55,
          55,
          55,
          55,
          55,
          55,
          55,
          55,
          55,
          55,
          55,
          55,
          55,
          60,
          60,
          60,
          60,
          60,
          60,
          60,
          60,
          60,
          60,
          60,
          60,
          60,
          60,
          60,
          60,
          60,
          60,
          60,
          60,
          65,
          65,
          65,
          65,
          65,
          65,
          70,
          70,
          70,
          70,
          70,
          70
         ]
        },
        {
         "hoverlabel": {
          "namelength": 0
         },
         "hovertemplate": "lesion=8<br>x_mm=%{x}<br>y_mm=%{y}<br>z_mm=%{z}",
         "legendgroup": "lesion=8",
         "marker": {
          "color": "#FF97FF",
          "opacity": 0.9,
          "symbol": "circle"
         },
         "mode": "markers",
         "name": "lesion=8",
         "scene": "scene",
         "showlegend": true,
         "type": "scatter3d",
         "x": [
          99.12495046889448,
          103.63338176374764,
          99.68850438075111,
          91.23519570290142,
          96.30718090961125,
          99.12495046889448,
          98.56139655703782,
          101.37916611632106,
          100.25205829260777,
          96.30718090961125,
          92.92585743847137,
          92.92585743847137,
          96.87073482146789,
          98.56139655703782
         ],
         "y": [
          90.67164179104473,
          86.16321049619164,
          82.78188702505174,
          87.85387223176156,
          90.67164179104478,
          90.67164179104473,
          89.54453396733145,
          87.29031831990493,
          81.65477920133846,
          79.96411746576852,
          84.47254876062169,
          87.85387223176156,
          88.4174261436182,
          89.54453396733145
         ],
         "z": [
          55,
          55,
          55,
          55,
          55,
          55,
          60,
          60,
          60,
          60,
          60,
          60,
          60,
          60
         ]
        },
        {
         "hoverlabel": {
          "namelength": 0
         },
         "hovertemplate": "lesion=9<br>x_mm=%{x}<br>y_mm=%{y}<br>z_mm=%{z}",
         "legendgroup": "lesion=9",
         "marker": {
          "color": "#FECB52",
          "opacity": 0.9,
          "symbol": "circle"
         },
         "mode": "markers",
         "name": "lesion=9",
         "scene": "scene",
         "showlegend": true,
         "type": "scatter3d",
         "x": [
          95.7436269977546,
          97.99784264518117,
          96.30718090961125,
          92.92585743847137,
          95.7436269977546,
          91.79874961475808,
          92.92585743847137,
          89.54453396733149,
          87.85387223176156,
          87.85387223176156,
          90.67164179104479,
          91.79874961475808
         ],
         "y": [
          122.79421476687362,
          118.8493373838771,
          117.15867564830717,
          121.10355303130368,
          122.79421476687362,
          126.17553823801349,
          122.79421476687362,
          119.97644520759039,
          122.79421476687362,
          127.30264606172679,
          127.30264606172679,
          126.17553823801349
         ],
         "z": [
          55,
          55,
          55,
          55,
          55,
          60,
          60,
          60,
          60,
          60,
          60,
          60
         ]
        },
        {
         "hoverlabel": {
          "namelength": 0
         },
         "hovertemplate": "lesion=10<br>x_mm=%{x}<br>y_mm=%{y}<br>z_mm=%{z}",
         "legendgroup": "lesion=10",
         "marker": {
          "color": "#636efa",
          "opacity": 0.9,
          "symbol": "circle"
         },
         "mode": "markers",
         "name": "lesion=10",
         "scene": "scene",
         "showlegend": true,
         "type": "scatter3d",
         "x": [
          119.97644520759039,
          123.92132259058688,
          124.48487650244354,
          120.539999119447,
          118.84933738387709,
          119.97644520759039
         ],
         "y": [
          121.66710694316026,
          121.10355303130368,
          113.21379826531064,
          116.03156782459388,
          117.7222295601638,
          121.66710694316026
         ],
         "z": [
          80,
          80,
          80,
          80,
          80,
          80
         ]
        }
       ],
       "layout": {
        "legend": {
         "tracegroupgap": 0
        },
        "margin": {
         "t": 60
        },
        "scene": {
         "domain": {
          "x": [
           0,
           1
          ],
          "y": [
           0,
           1
          ]
         },
         "xaxis": {
          "title": {
           "text": "x_mm"
          }
         },
         "yaxis": {
          "title": {
           "text": "y_mm"
          }
         },
         "zaxis": {
          "title": {
           "text": "z_mm"
          }
         }
        },
        "template": {
         "data": {
          "bar": [
           {
            "error_x": {
             "color": "#2a3f5f"
            },
            "error_y": {
             "color": "#2a3f5f"
            },
            "marker": {
             "line": {
              "color": "#E5ECF6",
              "width": 0.5
             }
            },
            "type": "bar"
           }
          ],
          "barpolar": [
           {
            "marker": {
             "line": {
              "color": "#E5ECF6",
              "width": 0.5
             }
            },
            "type": "barpolar"
           }
          ],
          "carpet": [
           {
            "aaxis": {
             "endlinecolor": "#2a3f5f",
             "gridcolor": "white",
             "linecolor": "white",
             "minorgridcolor": "white",
             "startlinecolor": "#2a3f5f"
            },
            "baxis": {
             "endlinecolor": "#2a3f5f",
             "gridcolor": "white",
             "linecolor": "white",
             "minorgridcolor": "white",
             "startlinecolor": "#2a3f5f"
            },
            "type": "carpet"
           }
          ],
          "choropleth": [
           {
            "colorbar": {
             "outlinewidth": 0,
             "ticks": ""
            },
            "type": "choropleth"
           }
          ],
          "contour": [
           {
            "colorbar": {
             "outlinewidth": 0,
             "ticks": ""
            },
            "colorscale": [
             [
              0,
              "#0d0887"
             ],
             [
              0.1111111111111111,
              "#46039f"
             ],
             [
              0.2222222222222222,
              "#7201a8"
             ],
             [
              0.3333333333333333,
              "#9c179e"
             ],
             [
              0.4444444444444444,
              "#bd3786"
             ],
             [
              0.5555555555555556,
              "#d8576b"
             ],
             [
              0.6666666666666666,
              "#ed7953"
             ],
             [
              0.7777777777777778,
              "#fb9f3a"
             ],
             [
              0.8888888888888888,
              "#fdca26"
             ],
             [
              1,
              "#f0f921"
             ]
            ],
            "type": "contour"
           }
          ],
          "contourcarpet": [
           {
            "colorbar": {
             "outlinewidth": 0,
             "ticks": ""
            },
            "type": "contourcarpet"
           }
          ],
          "heatmap": [
           {
            "colorbar": {
             "outlinewidth": 0,
             "ticks": ""
            },
            "colorscale": [
             [
              0,
              "#0d0887"
             ],
             [
              0.1111111111111111,
              "#46039f"
             ],
             [
              0.2222222222222222,
              "#7201a8"
             ],
             [
              0.3333333333333333,
              "#9c179e"
             ],
             [
              0.4444444444444444,
              "#bd3786"
             ],
             [
              0.5555555555555556,
              "#d8576b"
             ],
             [
              0.6666666666666666,
              "#ed7953"
             ],
             [
              0.7777777777777778,
              "#fb9f3a"
             ],
             [
              0.8888888888888888,
              "#fdca26"
             ],
             [
              1,
              "#f0f921"
             ]
            ],
            "type": "heatmap"
           }
          ],
          "heatmapgl": [
           {
            "colorbar": {
             "outlinewidth": 0,
             "ticks": ""
            },
            "colorscale": [
             [
              0,
              "#0d0887"
             ],
             [
              0.1111111111111111,
              "#46039f"
             ],
             [
              0.2222222222222222,
              "#7201a8"
             ],
             [
              0.3333333333333333,
              "#9c179e"
             ],
             [
              0.4444444444444444,
              "#bd3786"
             ],
             [
              0.5555555555555556,
              "#d8576b"
             ],
             [
              0.6666666666666666,
              "#ed7953"
             ],
             [
              0.7777777777777778,
              "#fb9f3a"
             ],
             [
              0.8888888888888888,
              "#fdca26"
             ],
             [
              1,
              "#f0f921"
             ]
            ],
            "type": "heatmapgl"
           }
          ],
          "histogram": [
           {
            "marker": {
             "colorbar": {
              "outlinewidth": 0,
              "ticks": ""
             }
            },
            "type": "histogram"
           }
          ],
          "histogram2d": [
           {
            "colorbar": {
             "outlinewidth": 0,
             "ticks": ""
            },
            "colorscale": [
             [
              0,
              "#0d0887"
             ],
             [
              0.1111111111111111,
              "#46039f"
             ],
             [
              0.2222222222222222,
              "#7201a8"
             ],
             [
              0.3333333333333333,
              "#9c179e"
             ],
             [
              0.4444444444444444,
              "#bd3786"
             ],
             [
              0.5555555555555556,
              "#d8576b"
             ],
             [
              0.6666666666666666,
              "#ed7953"
             ],
             [
              0.7777777777777778,
              "#fb9f3a"
             ],
             [
              0.8888888888888888,
              "#fdca26"
             ],
             [
              1,
              "#f0f921"
             ]
            ],
            "type": "histogram2d"
           }
          ],
          "histogram2dcontour": [
           {
            "colorbar": {
             "outlinewidth": 0,
             "ticks": ""
            },
            "colorscale": [
             [
              0,
              "#0d0887"
             ],
             [
              0.1111111111111111,
              "#46039f"
             ],
             [
              0.2222222222222222,
              "#7201a8"
             ],
             [
              0.3333333333333333,
              "#9c179e"
             ],
             [
              0.4444444444444444,
              "#bd3786"
             ],
             [
              0.5555555555555556,
              "#d8576b"
             ],
             [
              0.6666666666666666,
              "#ed7953"
             ],
             [
              0.7777777777777778,
              "#fb9f3a"
             ],
             [
              0.8888888888888888,
              "#fdca26"
             ],
             [
              1,
              "#f0f921"
             ]
            ],
            "type": "histogram2dcontour"
           }
          ],
          "mesh3d": [
           {
            "colorbar": {
             "outlinewidth": 0,
             "ticks": ""
            },
            "type": "mesh3d"
           }
          ],
          "parcoords": [
           {
            "line": {
             "colorbar": {
              "outlinewidth": 0,
              "ticks": ""
             }
            },
            "type": "parcoords"
           }
          ],
          "pie": [
           {
            "automargin": true,
            "type": "pie"
           }
          ],
          "scatter": [
           {
            "marker": {
             "colorbar": {
              "outlinewidth": 0,
              "ticks": ""
             }
            },
            "type": "scatter"
           }
          ],
          "scatter3d": [
           {
            "line": {
             "colorbar": {
              "outlinewidth": 0,
              "ticks": ""
             }
            },
            "marker": {
             "colorbar": {
              "outlinewidth": 0,
              "ticks": ""
             }
            },
            "type": "scatter3d"
           }
          ],
          "scattercarpet": [
           {
            "marker": {
             "colorbar": {
              "outlinewidth": 0,
              "ticks": ""
             }
            },
            "type": "scattercarpet"
           }
          ],
          "scattergeo": [
           {
            "marker": {
             "colorbar": {
              "outlinewidth": 0,
              "ticks": ""
             }
            },
            "type": "scattergeo"
           }
          ],
          "scattergl": [
           {
            "marker": {
             "colorbar": {
              "outlinewidth": 0,
              "ticks": ""
             }
            },
            "type": "scattergl"
           }
          ],
          "scattermapbox": [
           {
            "marker": {
             "colorbar": {
              "outlinewidth": 0,
              "ticks": ""
             }
            },
            "type": "scattermapbox"
           }
          ],
          "scatterpolar": [
           {
            "marker": {
             "colorbar": {
              "outlinewidth": 0,
              "ticks": ""
             }
            },
            "type": "scatterpolar"
           }
          ],
          "scatterpolargl": [
           {
            "marker": {
             "colorbar": {
              "outlinewidth": 0,
              "ticks": ""
             }
            },
            "type": "scatterpolargl"
           }
          ],
          "scatterternary": [
           {
            "marker": {
             "colorbar": {
              "outlinewidth": 0,
              "ticks": ""
             }
            },
            "type": "scatterternary"
           }
          ],
          "surface": [
           {
            "colorbar": {
             "outlinewidth": 0,
             "ticks": ""
            },
            "colorscale": [
             [
              0,
              "#0d0887"
             ],
             [
              0.1111111111111111,
              "#46039f"
             ],
             [
              0.2222222222222222,
              "#7201a8"
             ],
             [
              0.3333333333333333,
              "#9c179e"
             ],
             [
              0.4444444444444444,
              "#bd3786"
             ],
             [
              0.5555555555555556,
              "#d8576b"
             ],
             [
              0.6666666666666666,
              "#ed7953"
             ],
             [
              0.7777777777777778,
              "#fb9f3a"
             ],
             [
              0.8888888888888888,
              "#fdca26"
             ],
             [
              1,
              "#f0f921"
             ]
            ],
            "type": "surface"
           }
          ],
          "table": [
           {
            "cells": {
             "fill": {
              "color": "#EBF0F8"
             },
             "line": {
              "color": "white"
             }
            },
            "header": {
             "fill": {
              "color": "#C8D4E3"
             },
             "line": {
              "color": "white"
             }
            },
            "type": "table"
           }
          ]
         },
         "layout": {
          "annotationdefaults": {
           "arrowcolor": "#2a3f5f",
           "arrowhead": 0,
           "arrowwidth": 1
          },
          "coloraxis": {
           "colorbar": {
            "outlinewidth": 0,
            "ticks": ""
           }
          },
          "colorscale": {
           "diverging": [
            [
             0,
             "#8e0152"
            ],
            [
             0.1,
             "#c51b7d"
            ],
            [
             0.2,
             "#de77ae"
            ],
            [
             0.3,
             "#f1b6da"
            ],
            [
             0.4,
             "#fde0ef"
            ],
            [
             0.5,
             "#f7f7f7"
            ],
            [
             0.6,
             "#e6f5d0"
            ],
            [
             0.7,
             "#b8e186"
            ],
            [
             0.8,
             "#7fbc41"
            ],
            [
             0.9,
             "#4d9221"
            ],
            [
             1,
             "#276419"
            ]
           ],
           "sequential": [
            [
             0,
             "#0d0887"
            ],
            [
             0.1111111111111111,
             "#46039f"
            ],
            [
             0.2222222222222222,
             "#7201a8"
            ],
            [
             0.3333333333333333,
             "#9c179e"
            ],
            [
             0.4444444444444444,
             "#bd3786"
            ],
            [
             0.5555555555555556,
             "#d8576b"
            ],
            [
             0.6666666666666666,
             "#ed7953"
            ],
            [
             0.7777777777777778,
             "#fb9f3a"
            ],
            [
             0.8888888888888888,
             "#fdca26"
            ],
            [
             1,
             "#f0f921"
            ]
           ],
           "sequentialminus": [
            [
             0,
             "#0d0887"
            ],
            [
             0.1111111111111111,
             "#46039f"
            ],
            [
             0.2222222222222222,
             "#7201a8"
            ],
            [
             0.3333333333333333,
             "#9c179e"
            ],
            [
             0.4444444444444444,
             "#bd3786"
            ],
            [
             0.5555555555555556,
             "#d8576b"
            ],
            [
             0.6666666666666666,
             "#ed7953"
            ],
            [
             0.7777777777777778,
             "#fb9f3a"
            ],
            [
             0.8888888888888888,
             "#fdca26"
            ],
            [
             1,
             "#f0f921"
            ]
           ]
          },
          "colorway": [
           "#636efa",
           "#EF553B",
           "#00cc96",
           "#ab63fa",
           "#FFA15A",
           "#19d3f3",
           "#FF6692",
           "#B6E880",
           "#FF97FF",
           "#FECB52"
          ],
          "font": {
           "color": "#2a3f5f"
          },
          "geo": {
           "bgcolor": "white",
           "lakecolor": "white",
           "landcolor": "#E5ECF6",
           "showlakes": true,
           "showland": true,
           "subunitcolor": "white"
          },
          "hoverlabel": {
           "align": "left"
          },
          "hovermode": "closest",
          "mapbox": {
           "style": "light"
          },
          "paper_bgcolor": "white",
          "plot_bgcolor": "#E5ECF6",
          "polar": {
           "angularaxis": {
            "gridcolor": "white",
            "linecolor": "white",
            "ticks": ""
           },
           "bgcolor": "#E5ECF6",
           "radialaxis": {
            "gridcolor": "white",
            "linecolor": "white",
            "ticks": ""
           }
          },
          "scene": {
           "xaxis": {
            "backgroundcolor": "#E5ECF6",
            "gridcolor": "white",
            "gridwidth": 2,
            "linecolor": "white",
            "showbackground": true,
            "ticks": "",
            "zerolinecolor": "white"
           },
           "yaxis": {
            "backgroundcolor": "#E5ECF6",
            "gridcolor": "white",
            "gridwidth": 2,
            "linecolor": "white",
            "showbackground": true,
            "ticks": "",
            "zerolinecolor": "white"
           },
           "zaxis": {
            "backgroundcolor": "#E5ECF6",
            "gridcolor": "white",
            "gridwidth": 2,
            "linecolor": "white",
            "showbackground": true,
            "ticks": "",
            "zerolinecolor": "white"
           }
          },
          "shapedefaults": {
           "line": {
            "color": "#2a3f5f"
           }
          },
          "ternary": {
           "aaxis": {
            "gridcolor": "white",
            "linecolor": "white",
            "ticks": ""
           },
           "baxis": {
            "gridcolor": "white",
            "linecolor": "white",
            "ticks": ""
           },
           "bgcolor": "#E5ECF6",
           "caxis": {
            "gridcolor": "white",
            "linecolor": "white",
            "ticks": ""
           }
          },
          "title": {
           "x": 0.05
          },
          "xaxis": {
           "automargin": true,
           "gridcolor": "white",
           "linecolor": "white",
           "ticks": "",
           "title": {
            "standoff": 15
           },
           "zerolinecolor": "white",
           "zerolinewidth": 2
          },
          "yaxis": {
           "automargin": true,
           "gridcolor": "white",
           "linecolor": "white",
           "ticks": "",
           "title": {
            "standoff": 15
           },
           "zerolinecolor": "white",
           "zerolinewidth": 2
          }
         }
        }
       }
      },
      "text/html": [
       "<div>\n",
       "        \n",
       "        \n",
       "            <div id=\"fd1fc82d-985d-4441-8030-1c107720c48f\" class=\"plotly-graph-div\" style=\"height:525px; width:100%;\"></div>\n",
       "            <script type=\"text/javascript\">\n",
       "                require([\"plotly\"], function(Plotly) {\n",
       "                    window.PLOTLYENV=window.PLOTLYENV || {};\n",
       "                    \n",
       "                if (document.getElementById(\"fd1fc82d-985d-4441-8030-1c107720c48f\")) {\n",
       "                    Plotly.newPlot(\n",
       "                        'fd1fc82d-985d-4441-8030-1c107720c48f',\n",
       "                        [{\"hoverlabel\": {\"namelength\": 0}, \"hovertemplate\": \"lesion=0<br>x_mm=%{x}<br>y_mm=%{y}<br>z_mm=%{z}\", \"legendgroup\": \"lesion=0\", \"marker\": {\"color\": \"#636efa\", \"opacity\": 0.9, \"symbol\": \"circle\"}, \"mode\": \"markers\", \"name\": \"lesion=0\", \"scene\": \"scene\", \"showlegend\": true, \"type\": \"scatter3d\", \"x\": [135.19240082771984, 140.2643860344296, 141.95504776999957, 136.88306256328977, 132.93818518029323, 135.19240082771984], \"y\": [157.17100339012893, 154.3532338308458, 148.71769471227933, 151.53546427156255, 155.48034165455908, 157.17100339012893], \"z\": [0, 0, 0, 0, 0, 0]}, {\"hoverlabel\": {\"namelength\": 0}, \"hovertemplate\": \"lesion=1<br>x_mm=%{x}<br>y_mm=%{y}<br>z_mm=%{z}\", \"legendgroup\": \"lesion=1\", \"marker\": {\"color\": \"#EF553B\", \"opacity\": 0.9, \"symbol\": \"circle\"}, \"mode\": \"markers\", \"name\": \"lesion=1\", \"scene\": \"scene\", \"showlegend\": true, \"type\": \"scatter3d\", \"x\": [104.1969356756043, 104.1969356756043, 100.8156122044644, 99.68850438075111, 101.94272002817772, 104.1969356756043, 102.50627394003435, 108.1418130586008, 107.01470523488751, 101.94272002817772, 100.25205829260777, 96.30718090961125, 96.30718090961125, 102.50627394003435, 108.1418130586008, 108.1418130586008, 104.76048958746094, 103.069827851891, 105.32404349931757, 108.1418130586008, 107.01470523488751, 107.01470523488751, 107.01470523488751, 104.1969356756043, 103.63338176374764, 104.76048958746094, 108.1418130586008, 108.1418130586008, 107.01470523488751], \"y\": [128.42975388544002, 124.48487650244357, 124.48487650244357, 128.42975388544008, 130.68396953286666, 128.42975388544002, 130.6839695328666, 129.55686170915337, 122.79421476687362, 118.8493373838771, 122.79421476687362, 127.30264606172679, 127.30264606172679, 130.6839695328666, 136.31950865143313, 131.81107735657994, 132.93818518029326, 135.19240082771984, 135.75595473957648, 136.31950865143313, 125.6119843261568, 119.97644520759039, 117.15867564830717, 118.28578347202046, 121.66710694316033, 124.48487650244357, 127.30264606172679, 127.30264606172679, 125.6119843261568], \"z\": [5, 5, 5, 5, 5, 5, 10, 10, 10, 10, 10, 10, 10, 10, 10, 10, 10, 10, 10, 10, 15, 15, 15, 15, 15, 15, 15, 15, 15]}, {\"hoverlabel\": {\"namelength\": 0}, \"hovertemplate\": \"lesion=2<br>x_mm=%{x}<br>y_mm=%{y}<br>z_mm=%{z}\", \"legendgroup\": \"lesion=2\", \"marker\": {\"color\": \"#00cc96\", \"opacity\": 0.9, \"symbol\": \"circle\"}, \"mode\": \"markers\", \"name\": \"lesion=2\", \"scene\": \"scene\", \"showlegend\": true, \"type\": \"scatter3d\", \"x\": [154.3532338308458, 158.86166512569895, 159.42521903755562, 154.35323383084577, 151.53546427156252, 154.3532338308458], \"y\": [132.37463126843653, 132.3746312684366, 127.86619997358342, 127.86619997358342, 129.55686170915337, 132.37463126843653], \"z\": [30, 30, 30, 30, 30, 30]}, {\"hoverlabel\": {\"namelength\": 0}, \"hovertemplate\": \"lesion=3<br>x_mm=%{x}<br>y_mm=%{y}<br>z_mm=%{z}\", \"legendgroup\": \"lesion=3\", \"marker\": {\"color\": \"#ab63fa\", \"opacity\": 0.9, \"symbol\": \"circle\"}, \"mode\": \"markers\", \"name\": \"lesion=3\", \"scene\": \"scene\", \"showlegend\": true, \"type\": \"scatter3d\", \"x\": [105.32404349931757, 105.32404349931757, 100.25205829260777, 96.30718090961125, 94.05296526218466, 92.36230352661471, 96.30718090961125, 100.25205829260777, 103.069827851891, 106.45115132303086, 103.069827851891, 105.32404349931757, 113.21379826531063, 113.21379826531063, 110.95958261788404, 108.1418130586008, 105.32404349931757, 102.50627394003435, 97.99784264518117, 92.92585743847137, 92.36230352661471, 92.36230352661471, 95.7436269977546, 100.25205829260777, 100.8156122044644, 105.88759741117423, 109.83247479417075, 112.08669044159733, 113.21379826531063, 109.83247479417075, 109.83247479417075, 108.1418130586008, 103.069827851891, 98.56139655703782, 94.61651917404131, 94.61651917404131, 97.99784264518117, 100.25205829260777, 104.1969356756043, 110.39602870602741, 109.83247479417075], \"y\": [72.63791661163206, 64.74816184563907, 62.493946198212484, 65.31171575749572, 69.82014705234889, 72.63791661163212, 74.32857834720205, 74.32857834720205, 77.70990181834195, 77.70990181834195, 72.63791661163212, 72.63791661163206, 79.96411746576847, 75.45568617091534, 69.82014705234889, 68.6930392286356, 62.493946198212484, 59.11262272707262, 61.930392286355854, 65.87526966935236, 70.38370096420554, 74.89213225905871, 76.019240082772, 72.63791661163212, 72.07436269977549, 78.2734557301986, 79.96411746576852, 79.96411746576852, 79.96411746576847, 79.96411746576847, 72.07436269977549, 66.43882358120902, 63.05750011006914, 65.31171575749572, 69.82014705234889, 71.51080878791883, 73.20147052348877, 75.45568617091534, 76.58279399462863, 79.40056355391187, 79.96411746576847], \"z\": [35, 35, 35, 35, 35, 35, 35, 35, 35, 35, 35, 35, 40, 40, 40, 40, 40, 40, 40, 40, 40, 40, 40, 40, 40, 40, 40, 40, 40, 45, 45, 45, 45, 45, 45, 45, 45, 45, 45, 45, 45]}, {\"hoverlabel\": {\"namelength\": 0}, \"hovertemplate\": \"lesion=4<br>x_mm=%{x}<br>y_mm=%{y}<br>z_mm=%{z}\", \"legendgroup\": \"lesion=4\", \"marker\": {\"color\": \"#FFA15A\", \"opacity\": 0.9, \"symbol\": \"circle\"}, \"mode\": \"markers\", \"name\": \"lesion=4\", \"scene\": \"scene\", \"showlegend\": true, \"type\": \"scatter3d\", \"x\": [95.18007308589794, 97.99784264518117, 94.61651917404131, 90.10808787918813, 89.54453396733149, 94.61651917404131, 95.18007308589794, 97.99784264518117, 98.56139655703782, 95.7436269977546, 97.99784264518117, 96.30718090961125, 93.48941135032803, 91.23519570290142, 91.23519570290142, 92.92585743847137, 96.30718090961125, 99.12495046889448, 97.99784264518117], \"y\": [159.98877294941224, 156.04389556641573, 152.09901818341922, 153.2261260071325, 157.73455730198566, 161.11588077312555, 159.98877294941224, 166.75141989169202, 163.93365033240877, 160.5523268612689, 156.04389556641573, 153.78967991898915, 154.3532338308458, 158.86166512569895, 162.80654250869546, 164.49720424426542, 165.6243120679787, 166.75141989169202, 166.75141989169202], \"z\": [45, 45, 45, 45, 45, 45, 45, 50, 50, 50, 50, 50, 50, 50, 50, 50, 50, 50, 50]}, {\"hoverlabel\": {\"namelength\": 0}, \"hovertemplate\": \"lesion=5<br>x_mm=%{x}<br>y_mm=%{y}<br>z_mm=%{z}\", \"legendgroup\": \"lesion=5\", \"marker\": {\"color\": \"#19d3f3\", \"opacity\": 0.9, \"symbol\": \"circle\"}, \"mode\": \"markers\", \"name\": \"lesion=5\", \"scene\": \"scene\", \"showlegend\": true, \"type\": \"scatter3d\", \"x\": [140.82793994628625, 143.08215559371283, 145.33637124113946, 140.82793994628625, 139.13727821071635, 140.82793994628625, 139.13727821071635, 141.39149385814292, 144.20926341742614, 141.95504776999957, 139.700832122573, 139.13727821071635], \"y\": [168.44208162726196, 169.56918945097524, 163.93365033240877, 162.24298859683884, 165.6243120679787, 168.44208162726196, 167.31497380354864, 168.44208162726196, 167.31497380354864, 163.93365033240877, 164.49720424426542, 167.31497380354864], \"z\": [45, 45, 45, 45, 45, 45, 50, 50, 50, 50, 50, 50]}, {\"hoverlabel\": {\"namelength\": 0}, \"hovertemplate\": \"lesion=6<br>x_mm=%{x}<br>y_mm=%{y}<br>z_mm=%{z}\", \"legendgroup\": \"lesion=6\", \"marker\": {\"color\": \"#FF6692\", \"opacity\": 0.9, \"symbol\": \"circle\"}, \"mode\": \"markers\", \"name\": \"lesion=6\", \"scene\": \"scene\", \"showlegend\": true, \"type\": \"scatter3d\", \"x\": [97.43428873332454, 99.12495046889448, 99.12495046889448, 97.43428873332454, 95.7436269977546, 92.92585743847137, 91.79874961475808, 92.92585743847137, 96.87073482146789, 97.43428873332454, 97.43428873332454], \"y\": [126.1755382380134, 123.92132259058691, 118.28578347202046, 117.7222295601638, 116.59512173645051, 119.41289129573374, 121.10355303130368, 123.35776867873025, 123.35776867873025, 127.86619997358342, 126.1755382380134], \"z\": [50, 50, 50, 50, 50, 50, 50, 50, 50, 50, 50]}, {\"hoverlabel\": {\"namelength\": 0}, \"hovertemplate\": \"lesion=7<br>x_mm=%{x}<br>y_mm=%{y}<br>z_mm=%{z}\", \"legendgroup\": \"lesion=7\", \"marker\": {\"color\": \"#B6E880\", \"opacity\": 0.9, \"symbol\": \"circle\"}, \"mode\": \"markers\", \"name\": \"lesion=7\", \"scene\": \"scene\", \"showlegend\": true, \"type\": \"scatter3d\", \"x\": [150.40835644784926, 156.04389556641573, 152.66257209527583, 149.28124862413594, 145.89992515299608, 143.08215559371283, 143.6457095055695, 148.7176947122793, 150.40835644784926, 136.88306256328977, 140.82793994628625, 141.95504776999957, 138.5737242988597, 135.1924008277198, 134.06529300400655, 136.88306256328977, 145.33637124113946, 152.0990181834192, 153.78967991898915, 152.66257209527583, 148.15414080042268, 140.82793994628625, 136.31950865143313, 135.75595473957645, 137.44661647514639, 140.82793994628625, 145.33637124113946, 146.46347906485272, 149.28124862413594, 152.66257209527583, 157.73455730198563, 158.2981112138423, 156.04389556641573, 153.2261260071325, 147.0270329767094, 144.77281732928282, 143.6457095055695, 143.08215559371283, 144.20926341742614, 145.89992515299608, 146.46347906485272, 139.13727821071635, 145.33637124113946, 152.0990181834192, 154.35323383084577, 148.7176947122793, 141.95504776999957, 136.31950865143313, 136.31950865143313, 139.13727821071635, 144.77281732928282, 149.8448025359926, 154.9167877427024, 152.66257209527583, 146.46347906485272, 144.77281732928282, 132.3746312684366, 136.31950865143313, 133.50173909214988, 133.50173909214988, 132.3746312684366, 132.3746312684366, 135.75595473957645, 131.81107735657991, 128.42975388544008, 127.30264606172678, 132.3746312684366, 136.31950865143313, 141.39149385814292, 143.08215559371283, 136.31950865143313, 134.06529300400655, 136.31950865143313], \"y\": [146.46347906485275, 144.77281732928282, 139.13727821071635, 137.4466164751464, 139.700832122573, 143.64570950556953, 145.8999251529961, 145.8999251529961, 146.46347906485275, 144.20926341742617, 144.20926341742617, 137.4466164751464, 137.4466164751464, 140.26438603442963, 144.77281732928282, 144.20926341742617, 131.81107735657994, 131.2475234447233, 122.79421476687362, 118.28578347202046, 116.03156782459388, 116.03156782459388, 119.97644520759039, 123.92132259058691, 128.42975388544008, 131.2475234447233, 131.81107735657994, 148.15414080042268, 146.46347906485275, 146.46347906485275, 146.46347906485275, 141.95504776999957, 136.88306256328977, 135.75595473957648, 135.75595473957648, 137.4466164751464, 140.82793994628628, 142.51860168185624, 144.77281732928282, 148.15414080042268, 148.15414080042268, 127.30264606172679, 128.42975388544008, 126.73909214987015, 119.97644520759039, 118.28578347202046, 119.97644520759039, 121.10355303130368, 125.61198432615686, 127.30264606172679, 143.64570950556953, 143.64570950556953, 143.64570950556953, 138.01017038700306, 140.26438603442963, 143.64570950556953, 121.66710694316033, 117.15867564830717, 112.65024435345399, 118.28578347202046, 121.66710694316033, 122.23066085501692, 117.15867564830717, 115.46801391273722, 116.03156782459388, 122.23066085501696, 122.23066085501692, 110.95958261788397, 110.39602870602742, 104.76048958746095, 103.63338176374765, 108.14181305860082, 110.95958261788397], \"z\": [50, 50, 50, 50, 50, 50, 50, 50, 50, 50, 50, 50, 50, 50, 50, 50, 55, 55, 55, 55, 55, 55, 55, 55, 55, 55, 55, 55, 55, 55, 55, 55, 55, 55, 55, 55, 55, 55, 55, 55, 55, 60, 60, 60, 60, 60, 60, 60, 60, 60, 60, 60, 60, 60, 60, 60, 60, 60, 60, 60, 60, 65, 65, 65, 65, 65, 65, 70, 70, 70, 70, 70, 70]}, {\"hoverlabel\": {\"namelength\": 0}, \"hovertemplate\": \"lesion=8<br>x_mm=%{x}<br>y_mm=%{y}<br>z_mm=%{z}\", \"legendgroup\": \"lesion=8\", \"marker\": {\"color\": \"#FF97FF\", \"opacity\": 0.9, \"symbol\": \"circle\"}, \"mode\": \"markers\", \"name\": \"lesion=8\", \"scene\": \"scene\", \"showlegend\": true, \"type\": \"scatter3d\", \"x\": [99.12495046889448, 103.63338176374764, 99.68850438075111, 91.23519570290142, 96.30718090961125, 99.12495046889448, 98.56139655703782, 101.37916611632106, 100.25205829260777, 96.30718090961125, 92.92585743847137, 92.92585743847137, 96.87073482146789, 98.56139655703782], \"y\": [90.67164179104473, 86.16321049619164, 82.78188702505174, 87.85387223176156, 90.67164179104478, 90.67164179104473, 89.54453396733145, 87.29031831990493, 81.65477920133846, 79.96411746576852, 84.47254876062169, 87.85387223176156, 88.4174261436182, 89.54453396733145], \"z\": [55, 55, 55, 55, 55, 55, 60, 60, 60, 60, 60, 60, 60, 60]}, {\"hoverlabel\": {\"namelength\": 0}, \"hovertemplate\": \"lesion=9<br>x_mm=%{x}<br>y_mm=%{y}<br>z_mm=%{z}\", \"legendgroup\": \"lesion=9\", \"marker\": {\"color\": \"#FECB52\", \"opacity\": 0.9, \"symbol\": \"circle\"}, \"mode\": \"markers\", \"name\": \"lesion=9\", \"scene\": \"scene\", \"showlegend\": true, \"type\": \"scatter3d\", \"x\": [95.7436269977546, 97.99784264518117, 96.30718090961125, 92.92585743847137, 95.7436269977546, 91.79874961475808, 92.92585743847137, 89.54453396733149, 87.85387223176156, 87.85387223176156, 90.67164179104479, 91.79874961475808], \"y\": [122.79421476687362, 118.8493373838771, 117.15867564830717, 121.10355303130368, 122.79421476687362, 126.17553823801349, 122.79421476687362, 119.97644520759039, 122.79421476687362, 127.30264606172679, 127.30264606172679, 126.17553823801349], \"z\": [55, 55, 55, 55, 55, 60, 60, 60, 60, 60, 60, 60]}, {\"hoverlabel\": {\"namelength\": 0}, \"hovertemplate\": \"lesion=10<br>x_mm=%{x}<br>y_mm=%{y}<br>z_mm=%{z}\", \"legendgroup\": \"lesion=10\", \"marker\": {\"color\": \"#636efa\", \"opacity\": 0.9, \"symbol\": \"circle\"}, \"mode\": \"markers\", \"name\": \"lesion=10\", \"scene\": \"scene\", \"showlegend\": true, \"type\": \"scatter3d\", \"x\": [119.97644520759039, 123.92132259058688, 124.48487650244354, 120.539999119447, 118.84933738387709, 119.97644520759039], \"y\": [121.66710694316026, 121.10355303130368, 113.21379826531064, 116.03156782459388, 117.7222295601638, 121.66710694316026], \"z\": [80, 80, 80, 80, 80, 80]}],\n",
       "                        {\"legend\": {\"tracegroupgap\": 0}, \"margin\": {\"t\": 60}, \"scene\": {\"domain\": {\"x\": [0.0, 1.0], \"y\": [0.0, 1.0]}, \"xaxis\": {\"title\": {\"text\": \"x_mm\"}}, \"yaxis\": {\"title\": {\"text\": \"y_mm\"}}, \"zaxis\": {\"title\": {\"text\": \"z_mm\"}}}, \"template\": {\"data\": {\"bar\": [{\"error_x\": {\"color\": \"#2a3f5f\"}, \"error_y\": {\"color\": \"#2a3f5f\"}, \"marker\": {\"line\": {\"color\": \"#E5ECF6\", \"width\": 0.5}}, \"type\": \"bar\"}], \"barpolar\": [{\"marker\": {\"line\": {\"color\": \"#E5ECF6\", \"width\": 0.5}}, \"type\": \"barpolar\"}], \"carpet\": [{\"aaxis\": {\"endlinecolor\": \"#2a3f5f\", \"gridcolor\": \"white\", \"linecolor\": \"white\", \"minorgridcolor\": \"white\", \"startlinecolor\": \"#2a3f5f\"}, \"baxis\": {\"endlinecolor\": \"#2a3f5f\", \"gridcolor\": \"white\", \"linecolor\": \"white\", \"minorgridcolor\": \"white\", \"startlinecolor\": \"#2a3f5f\"}, \"type\": \"carpet\"}], \"choropleth\": [{\"colorbar\": {\"outlinewidth\": 0, \"ticks\": \"\"}, \"type\": \"choropleth\"}], \"contour\": [{\"colorbar\": {\"outlinewidth\": 0, \"ticks\": \"\"}, \"colorscale\": [[0.0, \"#0d0887\"], [0.1111111111111111, \"#46039f\"], [0.2222222222222222, \"#7201a8\"], [0.3333333333333333, \"#9c179e\"], [0.4444444444444444, \"#bd3786\"], [0.5555555555555556, \"#d8576b\"], [0.6666666666666666, \"#ed7953\"], [0.7777777777777778, \"#fb9f3a\"], [0.8888888888888888, \"#fdca26\"], [1.0, \"#f0f921\"]], \"type\": \"contour\"}], \"contourcarpet\": [{\"colorbar\": {\"outlinewidth\": 0, \"ticks\": \"\"}, \"type\": \"contourcarpet\"}], \"heatmap\": [{\"colorbar\": {\"outlinewidth\": 0, \"ticks\": \"\"}, \"colorscale\": [[0.0, \"#0d0887\"], [0.1111111111111111, \"#46039f\"], [0.2222222222222222, \"#7201a8\"], [0.3333333333333333, \"#9c179e\"], [0.4444444444444444, \"#bd3786\"], [0.5555555555555556, \"#d8576b\"], [0.6666666666666666, \"#ed7953\"], [0.7777777777777778, \"#fb9f3a\"], [0.8888888888888888, \"#fdca26\"], [1.0, \"#f0f921\"]], \"type\": \"heatmap\"}], \"heatmapgl\": [{\"colorbar\": {\"outlinewidth\": 0, \"ticks\": \"\"}, \"colorscale\": [[0.0, \"#0d0887\"], [0.1111111111111111, \"#46039f\"], [0.2222222222222222, \"#7201a8\"], [0.3333333333333333, \"#9c179e\"], [0.4444444444444444, \"#bd3786\"], [0.5555555555555556, \"#d8576b\"], [0.6666666666666666, \"#ed7953\"], [0.7777777777777778, \"#fb9f3a\"], [0.8888888888888888, \"#fdca26\"], [1.0, \"#f0f921\"]], \"type\": \"heatmapgl\"}], \"histogram\": [{\"marker\": {\"colorbar\": {\"outlinewidth\": 0, \"ticks\": \"\"}}, \"type\": \"histogram\"}], \"histogram2d\": [{\"colorbar\": {\"outlinewidth\": 0, \"ticks\": \"\"}, \"colorscale\": [[0.0, \"#0d0887\"], [0.1111111111111111, \"#46039f\"], [0.2222222222222222, \"#7201a8\"], [0.3333333333333333, \"#9c179e\"], [0.4444444444444444, \"#bd3786\"], [0.5555555555555556, \"#d8576b\"], [0.6666666666666666, \"#ed7953\"], [0.7777777777777778, \"#fb9f3a\"], [0.8888888888888888, \"#fdca26\"], [1.0, \"#f0f921\"]], \"type\": \"histogram2d\"}], \"histogram2dcontour\": [{\"colorbar\": {\"outlinewidth\": 0, \"ticks\": \"\"}, \"colorscale\": [[0.0, \"#0d0887\"], [0.1111111111111111, \"#46039f\"], [0.2222222222222222, \"#7201a8\"], [0.3333333333333333, \"#9c179e\"], [0.4444444444444444, \"#bd3786\"], [0.5555555555555556, \"#d8576b\"], [0.6666666666666666, \"#ed7953\"], [0.7777777777777778, \"#fb9f3a\"], [0.8888888888888888, \"#fdca26\"], [1.0, \"#f0f921\"]], \"type\": \"histogram2dcontour\"}], \"mesh3d\": [{\"colorbar\": {\"outlinewidth\": 0, \"ticks\": \"\"}, \"type\": \"mesh3d\"}], \"parcoords\": [{\"line\": {\"colorbar\": {\"outlinewidth\": 0, \"ticks\": \"\"}}, \"type\": \"parcoords\"}], \"pie\": [{\"automargin\": true, \"type\": \"pie\"}], \"scatter\": [{\"marker\": {\"colorbar\": {\"outlinewidth\": 0, \"ticks\": \"\"}}, \"type\": \"scatter\"}], \"scatter3d\": [{\"line\": {\"colorbar\": {\"outlinewidth\": 0, \"ticks\": \"\"}}, \"marker\": {\"colorbar\": {\"outlinewidth\": 0, \"ticks\": \"\"}}, \"type\": \"scatter3d\"}], \"scattercarpet\": [{\"marker\": {\"colorbar\": {\"outlinewidth\": 0, \"ticks\": \"\"}}, \"type\": \"scattercarpet\"}], \"scattergeo\": [{\"marker\": {\"colorbar\": {\"outlinewidth\": 0, \"ticks\": \"\"}}, \"type\": \"scattergeo\"}], \"scattergl\": [{\"marker\": {\"colorbar\": {\"outlinewidth\": 0, \"ticks\": \"\"}}, \"type\": \"scattergl\"}], \"scattermapbox\": [{\"marker\": {\"colorbar\": {\"outlinewidth\": 0, \"ticks\": \"\"}}, \"type\": \"scattermapbox\"}], \"scatterpolar\": [{\"marker\": {\"colorbar\": {\"outlinewidth\": 0, \"ticks\": \"\"}}, \"type\": \"scatterpolar\"}], \"scatterpolargl\": [{\"marker\": {\"colorbar\": {\"outlinewidth\": 0, \"ticks\": \"\"}}, \"type\": \"scatterpolargl\"}], \"scatterternary\": [{\"marker\": {\"colorbar\": {\"outlinewidth\": 0, \"ticks\": \"\"}}, \"type\": \"scatterternary\"}], \"surface\": [{\"colorbar\": {\"outlinewidth\": 0, \"ticks\": \"\"}, \"colorscale\": [[0.0, \"#0d0887\"], [0.1111111111111111, \"#46039f\"], [0.2222222222222222, \"#7201a8\"], [0.3333333333333333, \"#9c179e\"], [0.4444444444444444, \"#bd3786\"], [0.5555555555555556, \"#d8576b\"], [0.6666666666666666, \"#ed7953\"], [0.7777777777777778, \"#fb9f3a\"], [0.8888888888888888, \"#fdca26\"], [1.0, \"#f0f921\"]], \"type\": \"surface\"}], \"table\": [{\"cells\": {\"fill\": {\"color\": \"#EBF0F8\"}, \"line\": {\"color\": \"white\"}}, \"header\": {\"fill\": {\"color\": \"#C8D4E3\"}, \"line\": {\"color\": \"white\"}}, \"type\": \"table\"}]}, \"layout\": {\"annotationdefaults\": {\"arrowcolor\": \"#2a3f5f\", \"arrowhead\": 0, \"arrowwidth\": 1}, \"coloraxis\": {\"colorbar\": {\"outlinewidth\": 0, \"ticks\": \"\"}}, \"colorscale\": {\"diverging\": [[0, \"#8e0152\"], [0.1, \"#c51b7d\"], [0.2, \"#de77ae\"], [0.3, \"#f1b6da\"], [0.4, \"#fde0ef\"], [0.5, \"#f7f7f7\"], [0.6, \"#e6f5d0\"], [0.7, \"#b8e186\"], [0.8, \"#7fbc41\"], [0.9, \"#4d9221\"], [1, \"#276419\"]], \"sequential\": [[0.0, \"#0d0887\"], [0.1111111111111111, \"#46039f\"], [0.2222222222222222, \"#7201a8\"], [0.3333333333333333, \"#9c179e\"], [0.4444444444444444, \"#bd3786\"], [0.5555555555555556, \"#d8576b\"], [0.6666666666666666, \"#ed7953\"], [0.7777777777777778, \"#fb9f3a\"], [0.8888888888888888, \"#fdca26\"], [1.0, \"#f0f921\"]], \"sequentialminus\": [[0.0, \"#0d0887\"], [0.1111111111111111, \"#46039f\"], [0.2222222222222222, \"#7201a8\"], [0.3333333333333333, \"#9c179e\"], [0.4444444444444444, \"#bd3786\"], [0.5555555555555556, \"#d8576b\"], [0.6666666666666666, \"#ed7953\"], [0.7777777777777778, \"#fb9f3a\"], [0.8888888888888888, \"#fdca26\"], [1.0, \"#f0f921\"]]}, \"colorway\": [\"#636efa\", \"#EF553B\", \"#00cc96\", \"#ab63fa\", \"#FFA15A\", \"#19d3f3\", \"#FF6692\", \"#B6E880\", \"#FF97FF\", \"#FECB52\"], \"font\": {\"color\": \"#2a3f5f\"}, \"geo\": {\"bgcolor\": \"white\", \"lakecolor\": \"white\", \"landcolor\": \"#E5ECF6\", \"showlakes\": true, \"showland\": true, \"subunitcolor\": \"white\"}, \"hoverlabel\": {\"align\": \"left\"}, \"hovermode\": \"closest\", \"mapbox\": {\"style\": \"light\"}, \"paper_bgcolor\": \"white\", \"plot_bgcolor\": \"#E5ECF6\", \"polar\": {\"angularaxis\": {\"gridcolor\": \"white\", \"linecolor\": \"white\", \"ticks\": \"\"}, \"bgcolor\": \"#E5ECF6\", \"radialaxis\": {\"gridcolor\": \"white\", \"linecolor\": \"white\", \"ticks\": \"\"}}, \"scene\": {\"xaxis\": {\"backgroundcolor\": \"#E5ECF6\", \"gridcolor\": \"white\", \"gridwidth\": 2, \"linecolor\": \"white\", \"showbackground\": true, \"ticks\": \"\", \"zerolinecolor\": \"white\"}, \"yaxis\": {\"backgroundcolor\": \"#E5ECF6\", \"gridcolor\": \"white\", \"gridwidth\": 2, \"linecolor\": \"white\", \"showbackground\": true, \"ticks\": \"\", \"zerolinecolor\": \"white\"}, \"zaxis\": {\"backgroundcolor\": \"#E5ECF6\", \"gridcolor\": \"white\", \"gridwidth\": 2, \"linecolor\": \"white\", \"showbackground\": true, \"ticks\": \"\", \"zerolinecolor\": \"white\"}}, \"shapedefaults\": {\"line\": {\"color\": \"#2a3f5f\"}}, \"ternary\": {\"aaxis\": {\"gridcolor\": \"white\", \"linecolor\": \"white\", \"ticks\": \"\"}, \"baxis\": {\"gridcolor\": \"white\", \"linecolor\": \"white\", \"ticks\": \"\"}, \"bgcolor\": \"#E5ECF6\", \"caxis\": {\"gridcolor\": \"white\", \"linecolor\": \"white\", \"ticks\": \"\"}}, \"title\": {\"x\": 0.05}, \"xaxis\": {\"automargin\": true, \"gridcolor\": \"white\", \"linecolor\": \"white\", \"ticks\": \"\", \"title\": {\"standoff\": 15}, \"zerolinecolor\": \"white\", \"zerolinewidth\": 2}, \"yaxis\": {\"automargin\": true, \"gridcolor\": \"white\", \"linecolor\": \"white\", \"ticks\": \"\", \"title\": {\"standoff\": 15}, \"zerolinecolor\": \"white\", \"zerolinewidth\": 2}}}},\n",
       "                        {\"responsive\": true}\n",
       "                    ).then(function(){\n",
       "                            \n",
       "var gd = document.getElementById('fd1fc82d-985d-4441-8030-1c107720c48f');\n",
       "var x = new MutationObserver(function (mutations, observer) {{\n",
       "        var display = window.getComputedStyle(gd).display;\n",
       "        if (!display || display === 'none') {{\n",
       "            console.log([gd, 'removed!']);\n",
       "            Plotly.purge(gd);\n",
       "            observer.disconnect();\n",
       "        }}\n",
       "}});\n",
       "\n",
       "// Listen for the removal of the full notebook cells\n",
       "var notebookContainer = gd.closest('#notebook-container');\n",
       "if (notebookContainer) {{\n",
       "    x.observe(notebookContainer, {childList: true});\n",
       "}}\n",
       "\n",
       "// Listen for the clearing of the current output cell\n",
       "var outputEl = gd.closest('.output');\n",
       "if (outputEl) {{\n",
       "    x.observe(outputEl, {childList: true});\n",
       "}}\n",
       "\n",
       "                        })\n",
       "                };\n",
       "                });\n",
       "            </script>\n",
       "        </div>"
      ]
     },
     "metadata": {},
     "output_type": "display_data"
    }
   ],
   "source": [
    "import plotly.express as px\n",
    "fig = px.scatter_3d(points_df, x='x_mm', y='y_mm', z='z_mm', color=\"lesion\", opacity=0.9)\n",
    "fig.show()"
   ]
  },
  {
   "cell_type": "markdown",
   "metadata": {},
   "source": [
    "# Total matching"
   ]
  },
  {
   "cell_type": "code",
   "execution_count": 432,
   "metadata": {},
   "outputs": [],
   "source": [
    "edss_lesions_df = edss_df.set_index(\"subject\")"
   ]
  },
  {
   "cell_type": "code",
   "execution_count": 440,
   "metadata": {},
   "outputs": [],
   "source": [
    "patients_to_lesions_df[\"months\"] = patients_df.set_index(\"CODE\").loc[patients_to_lesions_df.index, \"months\"].tolist()"
   ]
  },
  {
   "cell_type": "code",
   "execution_count": 457,
   "metadata": {},
   "outputs": [],
   "source": [
    "costs = np.zeros((len(patients_to_lesions_df.index), len(patients_to_lesions_df.index)))\n",
    "\n",
    "for index_one, patient in enumerate(patients_to_lesions_df.index):\n",
    "    for index_two, patient_index in enumerate(edss_lesions_df.index):\n",
    "        cost = (patients_to_lesions_df.loc[patient][\"lesions_1\"] - edss_lesions_df.loc[patient_index][\"Number1\"]) ** 2 + \\\n",
    "                (patients_to_lesions_df.loc[patient][\"lesions_2\"] - edss_lesions_df.loc[patient_index][\"Number2\"]) ** 2 + \\\n",
    "                100 * (patients_to_lesions_df.loc[patient][\"months\"] - edss_lesions_df.loc[patient_index][\"months\"]) ** 2\n",
    "        costs[index_one, index_two] = np.sqrt(cost)"
   ]
  },
  {
   "cell_type": "code",
   "execution_count": 458,
   "metadata": {},
   "outputs": [],
   "source": [
    "patients, indices = linear_sum_assignment(costs)"
   ]
  },
  {
   "cell_type": "code",
   "execution_count": 472,
   "metadata": {},
   "outputs": [],
   "source": [
    "pd.concat([patients_to_lesions_df.reset_index(), edss_lesions_df.iloc[indices].reset_index()], axis=1)[[\"CODE\", \"EDSS2\", \"EDSS5\"]].to_csv(\"EDSS_matching.csv\")"
   ]
  }
 ],
 "metadata": {
  "kernelspec": {
   "display_name": "Python 3",
   "language": "python",
   "name": "python3"
  },
  "language_info": {
   "codemirror_mode": {
    "name": "ipython",
    "version": 3
   },
   "file_extension": ".py",
   "mimetype": "text/x-python",
   "name": "python",
   "nbconvert_exporter": "python",
   "pygments_lexer": "ipython3",
   "version": "3.7.6"
  },
  "toc": {
   "base_numbering": 1,
   "nav_menu": {},
   "number_sections": true,
   "sideBar": true,
   "skip_h1_title": false,
   "title_cell": "Table of Contents",
   "title_sidebar": "Contents",
   "toc_cell": false,
   "toc_position": {},
   "toc_section_display": true,
   "toc_window_display": false
  }
 },
 "nbformat": 4,
 "nbformat_minor": 2
}
